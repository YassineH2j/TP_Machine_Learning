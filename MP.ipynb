{
  "nbformat": 4,
  "nbformat_minor": 0,
  "metadata": {
    "colab": {
      "provenance": [],
      "include_colab_link": true
    },
    "kernelspec": {
      "name": "python3",
      "display_name": "Python 3"
    },
    "language_info": {
      "name": "python"
    },
    "accelerator": "TPU",
    "gpuClass": "standard",
    "widgets": {
      "application/vnd.jupyter.widget-state+json": {
        "993e36ed6d2c458188761757f79b66eb": {
          "model_module": "@jupyter-widgets/controls",
          "model_name": "HBoxModel",
          "model_module_version": "1.5.0",
          "state": {
            "_dom_classes": [],
            "_model_module": "@jupyter-widgets/controls",
            "_model_module_version": "1.5.0",
            "_model_name": "HBoxModel",
            "_view_count": null,
            "_view_module": "@jupyter-widgets/controls",
            "_view_module_version": "1.5.0",
            "_view_name": "HBoxView",
            "box_style": "",
            "children": [
              "IPY_MODEL_b86bb5cf929f489daab0514c860f3769",
              "IPY_MODEL_2952eaa2fe9843c7ac0c2215e24652e4",
              "IPY_MODEL_7464eac9bf2f454fba4aed49136dac70"
            ],
            "layout": "IPY_MODEL_6a810f06fbb348e78fc2fc1d635b72d2"
          }
        },
        "b86bb5cf929f489daab0514c860f3769": {
          "model_module": "@jupyter-widgets/controls",
          "model_name": "HTMLModel",
          "model_module_version": "1.5.0",
          "state": {
            "_dom_classes": [],
            "_model_module": "@jupyter-widgets/controls",
            "_model_module_version": "1.5.0",
            "_model_name": "HTMLModel",
            "_view_count": null,
            "_view_module": "@jupyter-widgets/controls",
            "_view_module_version": "1.5.0",
            "_view_name": "HTMLView",
            "description": "",
            "description_tooltip": null,
            "layout": "IPY_MODEL_d6c0e4b2ffea40e9b65f65ec61077178",
            "placeholder": "​",
            "style": "IPY_MODEL_5195186e9e374b6c90a754a374ceb98d",
            "value": "100%"
          }
        },
        "2952eaa2fe9843c7ac0c2215e24652e4": {
          "model_module": "@jupyter-widgets/controls",
          "model_name": "FloatProgressModel",
          "model_module_version": "1.5.0",
          "state": {
            "_dom_classes": [],
            "_model_module": "@jupyter-widgets/controls",
            "_model_module_version": "1.5.0",
            "_model_name": "FloatProgressModel",
            "_view_count": null,
            "_view_module": "@jupyter-widgets/controls",
            "_view_module_version": "1.5.0",
            "_view_name": "ProgressView",
            "bar_style": "success",
            "description": "",
            "description_tooltip": null,
            "layout": "IPY_MODEL_824ccd01158249f19863d4879bc65485",
            "max": 20,
            "min": 0,
            "orientation": "horizontal",
            "style": "IPY_MODEL_8161a885033f485a8032b747168695eb",
            "value": 20
          }
        },
        "7464eac9bf2f454fba4aed49136dac70": {
          "model_module": "@jupyter-widgets/controls",
          "model_name": "HTMLModel",
          "model_module_version": "1.5.0",
          "state": {
            "_dom_classes": [],
            "_model_module": "@jupyter-widgets/controls",
            "_model_module_version": "1.5.0",
            "_model_name": "HTMLModel",
            "_view_count": null,
            "_view_module": "@jupyter-widgets/controls",
            "_view_module_version": "1.5.0",
            "_view_name": "HTMLView",
            "description": "",
            "description_tooltip": null,
            "layout": "IPY_MODEL_fea1bae4421e4123b90120db1d5f5012",
            "placeholder": "​",
            "style": "IPY_MODEL_a569be9e65e24ad1b73bb4b786236690",
            "value": " 20/20 [00:14&lt;00:00,  1.43it/s]"
          }
        },
        "6a810f06fbb348e78fc2fc1d635b72d2": {
          "model_module": "@jupyter-widgets/base",
          "model_name": "LayoutModel",
          "model_module_version": "1.2.0",
          "state": {
            "_model_module": "@jupyter-widgets/base",
            "_model_module_version": "1.2.0",
            "_model_name": "LayoutModel",
            "_view_count": null,
            "_view_module": "@jupyter-widgets/base",
            "_view_module_version": "1.2.0",
            "_view_name": "LayoutView",
            "align_content": null,
            "align_items": null,
            "align_self": null,
            "border": null,
            "bottom": null,
            "display": null,
            "flex": null,
            "flex_flow": null,
            "grid_area": null,
            "grid_auto_columns": null,
            "grid_auto_flow": null,
            "grid_auto_rows": null,
            "grid_column": null,
            "grid_gap": null,
            "grid_row": null,
            "grid_template_areas": null,
            "grid_template_columns": null,
            "grid_template_rows": null,
            "height": null,
            "justify_content": null,
            "justify_items": null,
            "left": null,
            "margin": null,
            "max_height": null,
            "max_width": null,
            "min_height": null,
            "min_width": null,
            "object_fit": null,
            "object_position": null,
            "order": null,
            "overflow": null,
            "overflow_x": null,
            "overflow_y": null,
            "padding": null,
            "right": null,
            "top": null,
            "visibility": null,
            "width": null
          }
        },
        "d6c0e4b2ffea40e9b65f65ec61077178": {
          "model_module": "@jupyter-widgets/base",
          "model_name": "LayoutModel",
          "model_module_version": "1.2.0",
          "state": {
            "_model_module": "@jupyter-widgets/base",
            "_model_module_version": "1.2.0",
            "_model_name": "LayoutModel",
            "_view_count": null,
            "_view_module": "@jupyter-widgets/base",
            "_view_module_version": "1.2.0",
            "_view_name": "LayoutView",
            "align_content": null,
            "align_items": null,
            "align_self": null,
            "border": null,
            "bottom": null,
            "display": null,
            "flex": null,
            "flex_flow": null,
            "grid_area": null,
            "grid_auto_columns": null,
            "grid_auto_flow": null,
            "grid_auto_rows": null,
            "grid_column": null,
            "grid_gap": null,
            "grid_row": null,
            "grid_template_areas": null,
            "grid_template_columns": null,
            "grid_template_rows": null,
            "height": null,
            "justify_content": null,
            "justify_items": null,
            "left": null,
            "margin": null,
            "max_height": null,
            "max_width": null,
            "min_height": null,
            "min_width": null,
            "object_fit": null,
            "object_position": null,
            "order": null,
            "overflow": null,
            "overflow_x": null,
            "overflow_y": null,
            "padding": null,
            "right": null,
            "top": null,
            "visibility": null,
            "width": null
          }
        },
        "5195186e9e374b6c90a754a374ceb98d": {
          "model_module": "@jupyter-widgets/controls",
          "model_name": "DescriptionStyleModel",
          "model_module_version": "1.5.0",
          "state": {
            "_model_module": "@jupyter-widgets/controls",
            "_model_module_version": "1.5.0",
            "_model_name": "DescriptionStyleModel",
            "_view_count": null,
            "_view_module": "@jupyter-widgets/base",
            "_view_module_version": "1.2.0",
            "_view_name": "StyleView",
            "description_width": ""
          }
        },
        "824ccd01158249f19863d4879bc65485": {
          "model_module": "@jupyter-widgets/base",
          "model_name": "LayoutModel",
          "model_module_version": "1.2.0",
          "state": {
            "_model_module": "@jupyter-widgets/base",
            "_model_module_version": "1.2.0",
            "_model_name": "LayoutModel",
            "_view_count": null,
            "_view_module": "@jupyter-widgets/base",
            "_view_module_version": "1.2.0",
            "_view_name": "LayoutView",
            "align_content": null,
            "align_items": null,
            "align_self": null,
            "border": null,
            "bottom": null,
            "display": null,
            "flex": null,
            "flex_flow": null,
            "grid_area": null,
            "grid_auto_columns": null,
            "grid_auto_flow": null,
            "grid_auto_rows": null,
            "grid_column": null,
            "grid_gap": null,
            "grid_row": null,
            "grid_template_areas": null,
            "grid_template_columns": null,
            "grid_template_rows": null,
            "height": null,
            "justify_content": null,
            "justify_items": null,
            "left": null,
            "margin": null,
            "max_height": null,
            "max_width": null,
            "min_height": null,
            "min_width": null,
            "object_fit": null,
            "object_position": null,
            "order": null,
            "overflow": null,
            "overflow_x": null,
            "overflow_y": null,
            "padding": null,
            "right": null,
            "top": null,
            "visibility": null,
            "width": null
          }
        },
        "8161a885033f485a8032b747168695eb": {
          "model_module": "@jupyter-widgets/controls",
          "model_name": "ProgressStyleModel",
          "model_module_version": "1.5.0",
          "state": {
            "_model_module": "@jupyter-widgets/controls",
            "_model_module_version": "1.5.0",
            "_model_name": "ProgressStyleModel",
            "_view_count": null,
            "_view_module": "@jupyter-widgets/base",
            "_view_module_version": "1.2.0",
            "_view_name": "StyleView",
            "bar_color": null,
            "description_width": ""
          }
        },
        "fea1bae4421e4123b90120db1d5f5012": {
          "model_module": "@jupyter-widgets/base",
          "model_name": "LayoutModel",
          "model_module_version": "1.2.0",
          "state": {
            "_model_module": "@jupyter-widgets/base",
            "_model_module_version": "1.2.0",
            "_model_name": "LayoutModel",
            "_view_count": null,
            "_view_module": "@jupyter-widgets/base",
            "_view_module_version": "1.2.0",
            "_view_name": "LayoutView",
            "align_content": null,
            "align_items": null,
            "align_self": null,
            "border": null,
            "bottom": null,
            "display": null,
            "flex": null,
            "flex_flow": null,
            "grid_area": null,
            "grid_auto_columns": null,
            "grid_auto_flow": null,
            "grid_auto_rows": null,
            "grid_column": null,
            "grid_gap": null,
            "grid_row": null,
            "grid_template_areas": null,
            "grid_template_columns": null,
            "grid_template_rows": null,
            "height": null,
            "justify_content": null,
            "justify_items": null,
            "left": null,
            "margin": null,
            "max_height": null,
            "max_width": null,
            "min_height": null,
            "min_width": null,
            "object_fit": null,
            "object_position": null,
            "order": null,
            "overflow": null,
            "overflow_x": null,
            "overflow_y": null,
            "padding": null,
            "right": null,
            "top": null,
            "visibility": null,
            "width": null
          }
        },
        "a569be9e65e24ad1b73bb4b786236690": {
          "model_module": "@jupyter-widgets/controls",
          "model_name": "DescriptionStyleModel",
          "model_module_version": "1.5.0",
          "state": {
            "_model_module": "@jupyter-widgets/controls",
            "_model_module_version": "1.5.0",
            "_model_name": "DescriptionStyleModel",
            "_view_count": null,
            "_view_module": "@jupyter-widgets/base",
            "_view_module_version": "1.2.0",
            "_view_name": "StyleView",
            "description_width": ""
          }
        }
      }
    }
  },
  "cells": [
    {
      "cell_type": "markdown",
      "metadata": {
        "id": "view-in-github",
        "colab_type": "text"
      },
      "source": [
        "<a href=\"https://colab.research.google.com/github/YassineH2j/TP_Machine_Learning/blob/main/MP.ipynb\" target=\"_parent\"><img src=\"https://colab.research.google.com/assets/colab-badge.svg\" alt=\"Open In Colab\"/></a>"
      ]
    },
    {
      "cell_type": "code",
      "execution_count": 64,
      "metadata": {
        "id": "1ut6WlGY8Xem"
      },
      "outputs": [],
      "source": [
        "import os\n",
        "import torch\n",
        "import glob\n",
        "import numpy as np\n",
        "import torch.nn as nn\n",
        "from torchvision.transforms import transforms\n",
        "from torch.utils.data import DataLoader\n",
        "from torch.optim import Adam\n",
        "from torch.autograd import Variable\n",
        "import torchvision\n",
        "import pathlib\n",
        "from PIL import Image\n"
      ]
    },
    {
      "cell_type": "code",
      "source": [
        "device = torch.device('cuda' if torch.cuda.is_available() else 'cpu')\n",
        "device"
      ],
      "metadata": {
        "colab": {
          "base_uri": "https://localhost:8080/"
        },
        "id": "_nK0PDPE8Y6S",
        "outputId": "3f1b3490-e1d5-44b6-a829-d725f8d5cb09"
      },
      "execution_count": 65,
      "outputs": [
        {
          "output_type": "execute_result",
          "data": {
            "text/plain": [
              "device(type='cpu')"
            ]
          },
          "metadata": {},
          "execution_count": 65
        }
      ]
    },
    {
      "cell_type": "code",
      "source": [
        "import os\n",
        "from google.colab import drive  \n",
        "drive.mount('/content/drive')\n",
        "os.chdir(\"/content/drive/MyDrive/Data\")"
      ],
      "metadata": {
        "colab": {
          "base_uri": "https://localhost:8080/"
        },
        "id": "7vv2y4R-9C-I",
        "outputId": "42969656-5934-4d5e-f20a-1c375cc1b4a7"
      },
      "execution_count": 66,
      "outputs": [
        {
          "output_type": "stream",
          "name": "stdout",
          "text": [
            "Drive already mounted at /content/drive; to attempt to forcibly remount, call drive.mount(\"/content/drive\", force_remount=True).\n"
          ]
        }
      ]
    },
    {
      "cell_type": "code",
      "source": [
        "transformer = transforms.Compose([\n",
        "    transforms.ToTensor(),  #0-255 to 0-1, numpy to tensors\n",
        "    transforms.Normalize([0.5,0.5,0.5], # 0-1 to [-1,1] , formula (x-mean)/std\n",
        "        [0.5,0.5,0.5])\n",
        "])\n",
        "transformer"
      ],
      "metadata": {
        "id": "8w7DYl0O9h4H",
        "colab": {
          "base_uri": "https://localhost:8080/"
        },
        "outputId": "a9860cd5-d9cb-4f52-a199-db14ed13a324"
      },
      "execution_count": 69,
      "outputs": [
        {
          "output_type": "execute_result",
          "data": {
            "text/plain": [
              "Compose(\n",
              "    ToTensor()\n",
              "    Normalize(mean=[0.5, 0.5, 0.5], std=[0.5, 0.5, 0.5])\n",
              ")"
            ]
          },
          "metadata": {},
          "execution_count": 69
        }
      ]
    },
    {
      "cell_type": "code",
      "source": [
        "train_path = 'TrainData'\n",
        "test_path = 'TestData'\n",
        "source_path = 'SourceData'\n",
        "train_loader = DataLoader(\n",
        "    torchvision.datasets.ImageFolder(train_path,transform=transformer),\n",
        "    batch_size=64, shuffle=True\n",
        ")\n",
        "test_loader = DataLoader(\n",
        "    torchvision.datasets.ImageFolder(test_path,transform=transformer),\n",
        "    batch_size=32, shuffle=True\n",
        ")"
      ],
      "metadata": {
        "id": "YHIJ6hdQ8gQG"
      },
      "execution_count": 71,
      "outputs": []
    },
    {
      "cell_type": "code",
      "source": [
        "root = pathlib.Path(train_path)\n",
        "classes = sorted([j.name.split('/')[-1] for j in root.iterdir()])\n",
        "classes"
      ],
      "metadata": {
        "colab": {
          "base_uri": "https://localhost:8080/"
        },
        "id": "JAcPGLyQSCY_",
        "outputId": "54fab3b4-8bf6-4c4e-8cde-0d7ac842f4e8"
      },
      "execution_count": 72,
      "outputs": [
        {
          "output_type": "execute_result",
          "data": {
            "text/plain": [
              "['benign', 'malignant', 'normal']"
            ]
          },
          "metadata": {},
          "execution_count": 72
        }
      ]
    },
    {
      "cell_type": "code",
      "source": [
        "test_np = np.array(test_loader.dataset)\n",
        "test_np"
      ],
      "metadata": {
        "id": "W_WYKtbjQEif",
        "colab": {
          "base_uri": "https://localhost:8080/"
        },
        "outputId": "2f7256a3-5e54-4192-c65b-3c7b7dc8da26"
      },
      "execution_count": 73,
      "outputs": [
        {
          "output_type": "stream",
          "name": "stderr",
          "text": [
            "<ipython-input-73-fd1bdd3284ee>:1: FutureWarning: The input object of type 'Tensor' is an array-like implementing one of the corresponding protocols (`__array__`, `__array_interface__` or `__array_struct__`); but not a sequence (or 0-D). In the future, this object will be coerced as if it was first converted using `np.array(obj)`. To retain the old behaviour, you have to either modify the type 'Tensor', or assign to an empty array created with `np.empty(correct_shape, dtype=object)`.\n",
            "  test_np = np.array(test_loader.dataset)\n",
            "<ipython-input-73-fd1bdd3284ee>:1: VisibleDeprecationWarning: Creating an ndarray from ragged nested sequences (which is a list-or-tuple of lists-or-tuples-or ndarrays with different lengths or shapes) is deprecated. If you meant to do this, you must specify 'dtype=object' when creating the ndarray.\n",
            "  test_np = np.array(test_loader.dataset)\n"
          ]
        },
        {
          "output_type": "execute_result",
          "data": {
            "text/plain": [
              "array([[tensor([[[ 0.2784,  0.2706,  0.2784,  ...,  0.0824,  0.0431, -0.0196],\n",
              "                 [ 0.2784,  0.3020,  0.3020,  ...,  0.1294,  0.0431,  0.0039],\n",
              "                 [ 0.2784,  0.2941,  0.2627,  ...,  0.2000,  0.1216,  0.0824],\n",
              "                 ...,\n",
              "                 [ 0.1529,  0.1922,  0.2627,  ...,  0.0824,  0.0667,  0.0431],\n",
              "                 [ 0.1373,  0.1451,  0.2000,  ...,  0.0588,  0.0588,  0.0588],\n",
              "                 [ 0.1373,  0.1373,  0.1608,  ...,  0.0902,  0.0667,  0.0431]],\n",
              "\n",
              "                [[ 0.2784,  0.2706,  0.2784,  ...,  0.0824,  0.0431, -0.0196],\n",
              "                 [ 0.2784,  0.3020,  0.3020,  ...,  0.1294,  0.0431,  0.0039],\n",
              "                 [ 0.2784,  0.2941,  0.2627,  ...,  0.2000,  0.1216,  0.0824],\n",
              "                 ...,\n",
              "                 [ 0.1529,  0.1922,  0.2627,  ...,  0.0824,  0.0667,  0.0431],\n",
              "                 [ 0.1373,  0.1451,  0.2000,  ...,  0.0588,  0.0588,  0.0588],\n",
              "                 [ 0.1373,  0.1373,  0.1608,  ...,  0.0902,  0.0667,  0.0431]],\n",
              "\n",
              "                [[ 0.2784,  0.2706,  0.2784,  ...,  0.0824,  0.0431, -0.0196],\n",
              "                 [ 0.2784,  0.3020,  0.3020,  ...,  0.1294,  0.0431,  0.0039],\n",
              "                 [ 0.2784,  0.2941,  0.2627,  ...,  0.2000,  0.1216,  0.0824],\n",
              "                 ...,\n",
              "                 [ 0.1529,  0.1922,  0.2627,  ...,  0.0824,  0.0667,  0.0431],\n",
              "                 [ 0.1373,  0.1451,  0.2000,  ...,  0.0588,  0.0588,  0.0588],\n",
              "                 [ 0.1373,  0.1373,  0.1608,  ...,  0.0902,  0.0667,  0.0431]]]),\n",
              "        0],\n",
              "       [tensor([[[-0.4980, -0.4824, -0.4588,  ...,  0.4353,  0.4039,  0.4588],\n",
              "                 [-0.4745, -0.4510, -0.4588,  ...,  0.4431,  0.4196,  0.5059],\n",
              "                 [-0.4667, -0.4588, -0.4196,  ...,  0.4431,  0.4431,  0.5451],\n",
              "                 ...,\n",
              "                 [ 0.5451,  0.5059,  0.4196,  ...,  0.6706,  0.7255,  0.7647],\n",
              "                 [ 0.4902,  0.4118,  0.4118,  ...,  0.7020,  0.7490,  0.7804],\n",
              "                 [ 0.4745,  0.4824,  0.4196,  ...,  0.7098,  0.7412,  0.7804]],\n",
              "\n",
              "                [[-0.4980, -0.4824, -0.4588,  ...,  0.4353,  0.4039,  0.4588],\n",
              "                 [-0.4745, -0.4510, -0.4588,  ...,  0.4431,  0.4196,  0.5059],\n",
              "                 [-0.4667, -0.4588, -0.4196,  ...,  0.4431,  0.4431,  0.5451],\n",
              "                 ...,\n",
              "                 [ 0.5451,  0.5059,  0.4196,  ...,  0.6706,  0.7255,  0.7647],\n",
              "                 [ 0.4902,  0.4118,  0.4118,  ...,  0.7020,  0.7490,  0.7804],\n",
              "                 [ 0.4745,  0.4824,  0.4196,  ...,  0.7098,  0.7412,  0.7804]],\n",
              "\n",
              "                [[-0.4980, -0.4824, -0.4588,  ...,  0.4353,  0.4039,  0.4588],\n",
              "                 [-0.4745, -0.4510, -0.4588,  ...,  0.4431,  0.4196,  0.5059],\n",
              "                 [-0.4667, -0.4588, -0.4196,  ...,  0.4431,  0.4431,  0.5451],\n",
              "                 ...,\n",
              "                 [ 0.5451,  0.5059,  0.4196,  ...,  0.6706,  0.7255,  0.7647],\n",
              "                 [ 0.4902,  0.4118,  0.4118,  ...,  0.7020,  0.7490,  0.7804],\n",
              "                 [ 0.4745,  0.4824,  0.4196,  ...,  0.7098,  0.7412,  0.7804]]]),\n",
              "        0],\n",
              "       [tensor([[[-0.3333, -0.3490, -0.3490,  ...,  0.2627,  0.2471,  0.3647],\n",
              "                 [-0.3255, -0.3333, -0.3490,  ...,  0.2784,  0.2784,  0.3098],\n",
              "                 [-0.3412, -0.3412, -0.3569,  ...,  0.2784,  0.2784,  0.2471],\n",
              "                 ...,\n",
              "                 [ 0.2392,  0.2078,  0.2157,  ..., -0.0353, -0.1216, -0.2235],\n",
              "                 [ 0.2706,  0.2314,  0.2471,  ..., -0.0980, -0.1294, -0.2627],\n",
              "                 [ 0.3098,  0.2627,  0.3255,  ..., -0.1373, -0.1686, -0.2549]],\n",
              "\n",
              "                [[-0.3333, -0.3490, -0.3490,  ...,  0.2627,  0.2471,  0.3647],\n",
              "                 [-0.3255, -0.3333, -0.3490,  ...,  0.2784,  0.2784,  0.3098],\n",
              "                 [-0.3412, -0.3412, -0.3569,  ...,  0.2784,  0.2784,  0.2471],\n",
              "                 ...,\n",
              "                 [ 0.2392,  0.2078,  0.2157,  ..., -0.0353, -0.1216, -0.2235],\n",
              "                 [ 0.2706,  0.2314,  0.2471,  ..., -0.0980, -0.1294, -0.2627],\n",
              "                 [ 0.3098,  0.2627,  0.3255,  ..., -0.1373, -0.1686, -0.2549]],\n",
              "\n",
              "                [[-0.3333, -0.3490, -0.3490,  ...,  0.2627,  0.2471,  0.3647],\n",
              "                 [-0.3255, -0.3333, -0.3490,  ...,  0.2784,  0.2784,  0.3098],\n",
              "                 [-0.3412, -0.3412, -0.3569,  ...,  0.2784,  0.2784,  0.2471],\n",
              "                 ...,\n",
              "                 [ 0.2392,  0.2078,  0.2157,  ..., -0.0353, -0.1216, -0.2235],\n",
              "                 [ 0.2706,  0.2314,  0.2471,  ..., -0.0980, -0.1294, -0.2627],\n",
              "                 [ 0.3098,  0.2627,  0.3255,  ..., -0.1373, -0.1686, -0.2549]]]),\n",
              "        0],\n",
              "       [tensor([[[ 0.0745,  0.0824,  0.0431,  ..., -0.6078, -0.6000, -0.7020],\n",
              "                 [ 0.0588,  0.0667,  0.0510,  ..., -0.5922, -0.6000, -0.5922],\n",
              "                 [ 0.0667,  0.0745,  0.1059,  ..., -0.5843, -0.5922, -0.5922],\n",
              "                 ...,\n",
              "                 [-0.2235, -0.2078, -0.2549,  ...,  0.0902,  0.0588,  0.1137],\n",
              "                 [-0.1529, -0.1608, -0.1765,  ...,  0.1843,  0.2549,  0.2706],\n",
              "                 [-0.1765, -0.1686, -0.1608,  ...,  0.3020,  0.3569,  0.3882]],\n",
              "\n",
              "                [[ 0.0745,  0.0824,  0.0431,  ..., -0.6078, -0.6000, -0.7020],\n",
              "                 [ 0.0588,  0.0667,  0.0510,  ..., -0.5922, -0.6000, -0.5922],\n",
              "                 [ 0.0667,  0.0745,  0.1059,  ..., -0.5843, -0.5922, -0.5922],\n",
              "                 ...,\n",
              "                 [-0.2235, -0.2078, -0.2549,  ...,  0.0902,  0.0588,  0.1137],\n",
              "                 [-0.1529, -0.1608, -0.1765,  ...,  0.1843,  0.2549,  0.2706],\n",
              "                 [-0.1765, -0.1686, -0.1608,  ...,  0.3020,  0.3569,  0.3882]],\n",
              "\n",
              "                [[ 0.0745,  0.0824,  0.0431,  ..., -0.6078, -0.6000, -0.7020],\n",
              "                 [ 0.0588,  0.0667,  0.0510,  ..., -0.5922, -0.6000, -0.5922],\n",
              "                 [ 0.0667,  0.0745,  0.1059,  ..., -0.5843, -0.5922, -0.5922],\n",
              "                 ...,\n",
              "                 [-0.2235, -0.2078, -0.2549,  ...,  0.0902,  0.0588,  0.1137],\n",
              "                 [-0.1529, -0.1608, -0.1765,  ...,  0.1843,  0.2549,  0.2706],\n",
              "                 [-0.1765, -0.1686, -0.1608,  ...,  0.3020,  0.3569,  0.3882]]]),\n",
              "        0],\n",
              "       [tensor([[[ 0.6627,  0.6392,  0.6314,  ..., -0.0196,  0.0118,  0.0431],\n",
              "                 [ 0.6078,  0.6157,  0.6157,  ...,  0.0275,  0.0275,  0.0431],\n",
              "                 [ 0.5686,  0.5843,  0.5765,  ...,  0.0275,  0.0196,  0.0431],\n",
              "                 ...,\n",
              "                 [ 0.1216,  0.1137,  0.0275,  ...,  0.6078,  0.5686,  0.5765],\n",
              "                 [-0.0118,  0.0275,  0.0510,  ...,  0.6078,  0.5765,  0.5216],\n",
              "                 [-0.0275, -0.0667, -0.0588,  ...,  0.5451,  0.5608,  0.5373]],\n",
              "\n",
              "                [[ 0.6627,  0.6392,  0.6314,  ..., -0.0196,  0.0118,  0.0431],\n",
              "                 [ 0.6078,  0.6157,  0.6157,  ...,  0.0275,  0.0275,  0.0431],\n",
              "                 [ 0.5686,  0.5843,  0.5765,  ...,  0.0275,  0.0196,  0.0431],\n",
              "                 ...,\n",
              "                 [ 0.1216,  0.1137,  0.0275,  ...,  0.6078,  0.5686,  0.5765],\n",
              "                 [-0.0118,  0.0275,  0.0510,  ...,  0.6078,  0.5765,  0.5216],\n",
              "                 [-0.0275, -0.0667, -0.0588,  ...,  0.5451,  0.5608,  0.5373]],\n",
              "\n",
              "                [[ 0.6627,  0.6392,  0.6314,  ..., -0.0196,  0.0118,  0.0431],\n",
              "                 [ 0.6078,  0.6157,  0.6157,  ...,  0.0275,  0.0275,  0.0431],\n",
              "                 [ 0.5686,  0.5843,  0.5765,  ...,  0.0275,  0.0196,  0.0431],\n",
              "                 ...,\n",
              "                 [ 0.1216,  0.1137,  0.0275,  ...,  0.6078,  0.5686,  0.5765],\n",
              "                 [-0.0118,  0.0275,  0.0510,  ...,  0.6078,  0.5765,  0.5216],\n",
              "                 [-0.0275, -0.0667, -0.0588,  ...,  0.5451,  0.5608,  0.5373]]]),\n",
              "        0],\n",
              "       [tensor([[[ 0.2941,  0.2941,  0.2941,  ...,  0.0745,  0.2784,  0.3412],\n",
              "                 [ 0.3020,  0.3176,  0.3412,  ...,  0.0980,  0.2863,  0.3882],\n",
              "                 [ 0.4431,  0.4118,  0.4196,  ...,  0.1059,  0.2078,  0.4039],\n",
              "                 ...,\n",
              "                 [ 0.0431,  0.0039, -0.1059,  ...,  0.1059,  0.1216,  0.1451],\n",
              "                 [-0.0118, -0.0902, -0.1294,  ...,  0.1216,  0.1216,  0.1529],\n",
              "                 [-0.0588, -0.0902, -0.0980,  ...,  0.1373,  0.1373,  0.1843]],\n",
              "\n",
              "                [[ 0.2941,  0.2941,  0.2941,  ...,  0.0745,  0.2784,  0.3412],\n",
              "                 [ 0.3020,  0.3176,  0.3412,  ...,  0.0980,  0.2863,  0.3882],\n",
              "                 [ 0.4431,  0.4118,  0.4196,  ...,  0.1059,  0.2078,  0.4039],\n",
              "                 ...,\n",
              "                 [ 0.0431,  0.0039, -0.1059,  ...,  0.1059,  0.1216,  0.1451],\n",
              "                 [-0.0118, -0.0902, -0.1294,  ...,  0.1216,  0.1216,  0.1529],\n",
              "                 [-0.0588, -0.0902, -0.0980,  ...,  0.1373,  0.1373,  0.1843]],\n",
              "\n",
              "                [[ 0.2941,  0.2941,  0.2941,  ...,  0.0745,  0.2784,  0.3412],\n",
              "                 [ 0.3020,  0.3176,  0.3412,  ...,  0.0980,  0.2863,  0.3882],\n",
              "                 [ 0.4431,  0.4118,  0.4196,  ...,  0.1059,  0.2078,  0.4039],\n",
              "                 ...,\n",
              "                 [ 0.0431,  0.0039, -0.1059,  ...,  0.1059,  0.1216,  0.1451],\n",
              "                 [-0.0118, -0.0902, -0.1294,  ...,  0.1216,  0.1216,  0.1529],\n",
              "                 [-0.0588, -0.0902, -0.0980,  ...,  0.1373,  0.1373,  0.1843]]]),\n",
              "        0],\n",
              "       [tensor([[[ 0.0824, -0.0039, -0.0431,  ...,  0.2314,  0.1843,  0.1529],\n",
              "                 [ 0.1922,  0.1137,  0.0980,  ...,  0.2471,  0.2000,  0.1922],\n",
              "                 [ 0.2627,  0.1529,  0.1137,  ...,  0.2235,  0.1843,  0.1843],\n",
              "                 ...,\n",
              "                 [-0.0431, -0.0588, -0.0745,  ..., -0.0275,  0.0039, -0.0353],\n",
              "                 [-0.0118, -0.0588, -0.0588,  ..., -0.0667, -0.0824, -0.0745],\n",
              "                 [-0.0353, -0.0667, -0.0510,  ..., -0.0667, -0.0275, -0.0353]],\n",
              "\n",
              "                [[ 0.0824, -0.0039, -0.0431,  ...,  0.2314,  0.1843,  0.1529],\n",
              "                 [ 0.1922,  0.1137,  0.0980,  ...,  0.2471,  0.2000,  0.1922],\n",
              "                 [ 0.2627,  0.1529,  0.1137,  ...,  0.2235,  0.1843,  0.1843],\n",
              "                 ...,\n",
              "                 [-0.0431, -0.0588, -0.0745,  ..., -0.0275,  0.0039, -0.0353],\n",
              "                 [-0.0118, -0.0588, -0.0588,  ..., -0.0667, -0.0824, -0.0745],\n",
              "                 [-0.0353, -0.0667, -0.0510,  ..., -0.0667, -0.0275, -0.0353]],\n",
              "\n",
              "                [[ 0.0824, -0.0039, -0.0431,  ...,  0.2314,  0.1843,  0.1529],\n",
              "                 [ 0.1922,  0.1137,  0.0980,  ...,  0.2471,  0.2000,  0.1922],\n",
              "                 [ 0.2627,  0.1529,  0.1137,  ...,  0.2235,  0.1843,  0.1843],\n",
              "                 ...,\n",
              "                 [-0.0431, -0.0588, -0.0745,  ..., -0.0275,  0.0039, -0.0353],\n",
              "                 [-0.0118, -0.0588, -0.0588,  ..., -0.0667, -0.0824, -0.0745],\n",
              "                 [-0.0353, -0.0667, -0.0510,  ..., -0.0667, -0.0275, -0.0353]]]),\n",
              "        0],\n",
              "       [tensor([[[ 0.1059, -0.0196, -0.0118,  ...,  0.6549,  0.6314,  0.6157],\n",
              "                 [ 0.1373,  0.0510,  0.0431,  ...,  0.7255,  0.7490,  0.7725],\n",
              "                 [ 0.1529,  0.1059,  0.0667,  ...,  0.7020,  0.7255,  0.7333],\n",
              "                 ...,\n",
              "                 [ 0.2314,  0.1922,  0.2235,  ..., -0.0588, -0.0039,  0.0902],\n",
              "                 [ 0.2784,  0.2941,  0.2706,  ..., -0.0196,  0.0431,  0.1922],\n",
              "                 [ 0.3882,  0.3804,  0.2941,  ...,  0.0196,  0.0980,  0.2078]],\n",
              "\n",
              "                [[ 0.1059, -0.0196, -0.0118,  ...,  0.6549,  0.6314,  0.6157],\n",
              "                 [ 0.1373,  0.0510,  0.0431,  ...,  0.7255,  0.7490,  0.7725],\n",
              "                 [ 0.1529,  0.1059,  0.0667,  ...,  0.7020,  0.7255,  0.7333],\n",
              "                 ...,\n",
              "                 [ 0.2314,  0.1922,  0.2235,  ..., -0.0588, -0.0039,  0.0902],\n",
              "                 [ 0.2784,  0.2941,  0.2706,  ..., -0.0196,  0.0431,  0.1922],\n",
              "                 [ 0.3882,  0.3804,  0.2941,  ...,  0.0196,  0.0980,  0.2078]],\n",
              "\n",
              "                [[ 0.1059, -0.0196, -0.0118,  ...,  0.6549,  0.6314,  0.6157],\n",
              "                 [ 0.1373,  0.0510,  0.0431,  ...,  0.7255,  0.7490,  0.7725],\n",
              "                 [ 0.1529,  0.1059,  0.0667,  ...,  0.7020,  0.7255,  0.7333],\n",
              "                 ...,\n",
              "                 [ 0.2314,  0.1922,  0.2235,  ..., -0.0588, -0.0039,  0.0902],\n",
              "                 [ 0.2784,  0.2941,  0.2706,  ..., -0.0196,  0.0431,  0.1922],\n",
              "                 [ 0.3882,  0.3804,  0.2941,  ...,  0.0196,  0.0980,  0.2078]]]),\n",
              "        0],\n",
              "       [tensor([[[ 0.2863,  0.2706,  0.0745,  ..., -1.0000, -1.0000, -1.0000],\n",
              "                 [ 0.2706,  0.3098,  0.2392,  ..., -1.0000, -1.0000, -1.0000],\n",
              "                 [ 0.3020,  0.3255,  0.1843,  ..., -1.0000, -1.0000, -1.0000],\n",
              "                 ...,\n",
              "                 [ 0.0745,  0.0039, -0.0431,  ..., -0.4196, -1.0000, -1.0000],\n",
              "                 [ 0.0667, -0.0275, -0.0824,  ..., -0.3961, -1.0000, -1.0000],\n",
              "                 [-0.0667, -0.0431, -0.1137,  ..., -0.5686, -1.0000, -1.0000]],\n",
              "\n",
              "                [[ 0.2863,  0.2706,  0.0745,  ..., -1.0000, -1.0000, -1.0000],\n",
              "                 [ 0.2706,  0.3098,  0.2392,  ..., -1.0000, -1.0000, -1.0000],\n",
              "                 [ 0.3020,  0.3255,  0.1843,  ..., -1.0000, -1.0000, -1.0000],\n",
              "                 ...,\n",
              "                 [ 0.0745,  0.0039, -0.0431,  ..., -0.4196, -1.0000, -1.0000],\n",
              "                 [ 0.0667, -0.0275, -0.0824,  ..., -0.3961, -1.0000, -1.0000],\n",
              "                 [-0.0667, -0.0431, -0.1137,  ..., -0.5686, -1.0000, -1.0000]],\n",
              "\n",
              "                [[ 0.2863,  0.2706,  0.0745,  ..., -1.0000, -1.0000, -1.0000],\n",
              "                 [ 0.2706,  0.3098,  0.2392,  ..., -1.0000, -1.0000, -1.0000],\n",
              "                 [ 0.3020,  0.3255,  0.1843,  ..., -1.0000, -1.0000, -1.0000],\n",
              "                 ...,\n",
              "                 [ 0.0745,  0.0039, -0.0431,  ..., -0.4196, -1.0000, -1.0000],\n",
              "                 [ 0.0667, -0.0275, -0.0824,  ..., -0.3961, -1.0000, -1.0000],\n",
              "                 [-0.0667, -0.0431, -0.1137,  ..., -0.5686, -1.0000, -1.0000]]]),\n",
              "        1],\n",
              "       [tensor([[[ 0.5059,  0.5137,  0.5529,  ...,  0.6157,  0.5608,  0.5137],\n",
              "                 [ 0.4745,  0.5373,  0.5529,  ...,  0.6627,  0.6157,  0.5216],\n",
              "                 [ 0.4431,  0.5451,  0.5529,  ...,  0.6000,  0.6157,  0.5686],\n",
              "                 ...,\n",
              "                 [-0.0353, -0.0275,  0.0431,  ...,  0.0510,  0.0588, -0.0039],\n",
              "                 [-0.0118, -0.0275, -0.0039,  ...,  0.0902,  0.0431, -0.0353],\n",
              "                 [ 0.0667,  0.0431,  0.0118,  ...,  0.0588,  0.0745,  0.0667]],\n",
              "\n",
              "                [[ 0.5059,  0.5137,  0.5529,  ...,  0.6157,  0.5608,  0.5137],\n",
              "                 [ 0.4745,  0.5373,  0.5529,  ...,  0.6627,  0.6157,  0.5216],\n",
              "                 [ 0.4431,  0.5451,  0.5529,  ...,  0.6000,  0.6157,  0.5686],\n",
              "                 ...,\n",
              "                 [-0.0353, -0.0275,  0.0431,  ...,  0.0510,  0.0588, -0.0039],\n",
              "                 [-0.0118, -0.0275, -0.0039,  ...,  0.0902,  0.0431, -0.0353],\n",
              "                 [ 0.0667,  0.0431,  0.0118,  ...,  0.0588,  0.0745,  0.0667]],\n",
              "\n",
              "                [[ 0.5059,  0.5137,  0.5529,  ...,  0.6157,  0.5608,  0.5137],\n",
              "                 [ 0.4745,  0.5373,  0.5529,  ...,  0.6627,  0.6157,  0.5216],\n",
              "                 [ 0.4431,  0.5451,  0.5529,  ...,  0.6000,  0.6157,  0.5686],\n",
              "                 ...,\n",
              "                 [-0.0353, -0.0275,  0.0431,  ...,  0.0510,  0.0588, -0.0039],\n",
              "                 [-0.0118, -0.0275, -0.0039,  ...,  0.0902,  0.0431, -0.0353],\n",
              "                 [ 0.0667,  0.0431,  0.0118,  ...,  0.0588,  0.0745,  0.0667]]]),\n",
              "        1],\n",
              "       [tensor([[[ 0.0510,  0.0275,  0.0667,  ...,  0.5451,  0.6392,  0.6235],\n",
              "                 [-0.0745,  0.0275,  0.0039,  ...,  0.5294,  0.5608,  0.5843],\n",
              "                 [-0.0980, -0.0353,  0.0039,  ...,  0.5608,  0.6000,  0.6000],\n",
              "                 ...,\n",
              "                 [ 0.0118,  0.0353,  0.0039,  ...,  0.1373,  0.1843,  0.1529],\n",
              "                 [ 0.1373,  0.0510,  0.0196,  ...,  0.0980,  0.1294,  0.0431],\n",
              "                 [ 0.2941,  0.1686,  0.1765,  ...,  0.1451,  0.0980,  0.0039]],\n",
              "\n",
              "                [[ 0.0510,  0.0275,  0.0667,  ...,  0.5451,  0.6392,  0.6235],\n",
              "                 [-0.0745,  0.0275,  0.0039,  ...,  0.5294,  0.5608,  0.5843],\n",
              "                 [-0.0980, -0.0353,  0.0039,  ...,  0.5608,  0.6000,  0.6000],\n",
              "                 ...,\n",
              "                 [ 0.0118,  0.0353,  0.0039,  ...,  0.1373,  0.1843,  0.1529],\n",
              "                 [ 0.1373,  0.0510,  0.0196,  ...,  0.0980,  0.1294,  0.0431],\n",
              "                 [ 0.2941,  0.1686,  0.1765,  ...,  0.1451,  0.0980,  0.0039]],\n",
              "\n",
              "                [[ 0.0510,  0.0275,  0.0667,  ...,  0.5451,  0.6392,  0.6235],\n",
              "                 [-0.0745,  0.0275,  0.0039,  ...,  0.5294,  0.5608,  0.5843],\n",
              "                 [-0.0980, -0.0353,  0.0039,  ...,  0.5608,  0.6000,  0.6000],\n",
              "                 ...,\n",
              "                 [ 0.0118,  0.0353,  0.0039,  ...,  0.1373,  0.1843,  0.1529],\n",
              "                 [ 0.1373,  0.0510,  0.0196,  ...,  0.0980,  0.1294,  0.0431],\n",
              "                 [ 0.2941,  0.1686,  0.1765,  ...,  0.1451,  0.0980,  0.0039]]]),\n",
              "        1],\n",
              "       [tensor([[[ 0.0588,  0.0196,  0.0745,  ...,  0.1216,  0.1137,  0.1451],\n",
              "                 [ 0.1294,  0.1294,  0.1451,  ...,  0.1451,  0.0431,  0.0196],\n",
              "                 [ 0.1294,  0.1451,  0.1765,  ...,  0.1059,  0.1294,  0.0588],\n",
              "                 ...,\n",
              "                 [ 0.0196, -0.0118, -0.0118,  ...,  0.5608,  0.5529,  0.6392],\n",
              "                 [-0.0039,  0.0353, -0.0118,  ...,  0.5529,  0.4980,  0.5529],\n",
              "                 [ 0.0353, -0.0275, -0.0431,  ...,  0.4980,  0.5216,  0.5373]],\n",
              "\n",
              "                [[ 0.0588,  0.0196,  0.0745,  ...,  0.1216,  0.1137,  0.1451],\n",
              "                 [ 0.1294,  0.1294,  0.1451,  ...,  0.1451,  0.0431,  0.0196],\n",
              "                 [ 0.1294,  0.1451,  0.1765,  ...,  0.1059,  0.1294,  0.0588],\n",
              "                 ...,\n",
              "                 [ 0.0196, -0.0118, -0.0118,  ...,  0.5608,  0.5529,  0.6392],\n",
              "                 [-0.0039,  0.0353, -0.0118,  ...,  0.5529,  0.4980,  0.5529],\n",
              "                 [ 0.0353, -0.0275, -0.0431,  ...,  0.4980,  0.5216,  0.5373]],\n",
              "\n",
              "                [[ 0.0588,  0.0196,  0.0745,  ...,  0.1216,  0.1137,  0.1451],\n",
              "                 [ 0.1294,  0.1294,  0.1451,  ...,  0.1451,  0.0431,  0.0196],\n",
              "                 [ 0.1294,  0.1451,  0.1765,  ...,  0.1059,  0.1294,  0.0588],\n",
              "                 ...,\n",
              "                 [ 0.0196, -0.0118, -0.0118,  ...,  0.5608,  0.5529,  0.6392],\n",
              "                 [-0.0039,  0.0353, -0.0118,  ...,  0.5529,  0.4980,  0.5529],\n",
              "                 [ 0.0353, -0.0275, -0.0431,  ...,  0.4980,  0.5216,  0.5373]]]),\n",
              "        1],\n",
              "       [tensor([[[ 0.3961,  0.4353,  0.3725,  ..., -0.0902, -0.1059, -0.1373],\n",
              "                 [ 0.3961,  0.3804,  0.3412,  ..., -0.0902, -0.1059, -0.1608],\n",
              "                 [ 0.4039,  0.3804,  0.3647,  ..., -0.0980, -0.0745, -0.1373],\n",
              "                 ...,\n",
              "                 [ 0.2157,  0.2235,  0.2235,  ...,  0.4431,  0.4667,  0.5294],\n",
              "                 [ 0.2235,  0.2392,  0.2314,  ...,  0.4824,  0.4824,  0.4510],\n",
              "                 [ 0.1843,  0.1608,  0.1765,  ...,  0.4980,  0.4510,  0.4039]],\n",
              "\n",
              "                [[ 0.3961,  0.4353,  0.3725,  ..., -0.0902, -0.1059, -0.1373],\n",
              "                 [ 0.3961,  0.3804,  0.3412,  ..., -0.0902, -0.1059, -0.1608],\n",
              "                 [ 0.4039,  0.3804,  0.3647,  ..., -0.0980, -0.0745, -0.1373],\n",
              "                 ...,\n",
              "                 [ 0.2157,  0.2235,  0.2235,  ...,  0.4431,  0.4667,  0.5294],\n",
              "                 [ 0.2235,  0.2392,  0.2314,  ...,  0.4824,  0.4824,  0.4510],\n",
              "                 [ 0.1843,  0.1608,  0.1765,  ...,  0.4980,  0.4510,  0.4039]],\n",
              "\n",
              "                [[ 0.3961,  0.4353,  0.3725,  ..., -0.0902, -0.1059, -0.1373],\n",
              "                 [ 0.3961,  0.3804,  0.3412,  ..., -0.0902, -0.1059, -0.1608],\n",
              "                 [ 0.4039,  0.3804,  0.3647,  ..., -0.0980, -0.0745, -0.1373],\n",
              "                 ...,\n",
              "                 [ 0.2157,  0.2235,  0.2235,  ...,  0.4431,  0.4667,  0.5294],\n",
              "                 [ 0.2235,  0.2392,  0.2314,  ...,  0.4824,  0.4824,  0.4510],\n",
              "                 [ 0.1843,  0.1608,  0.1765,  ...,  0.4980,  0.4510,  0.4039]]]),\n",
              "        1],\n",
              "       [tensor([[[-0.0510, -0.0275, -0.0275,  ..., -0.2392, -0.1843, -0.2471],\n",
              "                 [-0.0588, -0.0353, -0.0275,  ..., -0.2235, -0.2000, -0.2549],\n",
              "                 [-0.0510, -0.0510, -0.0588,  ..., -0.2471, -0.2471, -0.2471],\n",
              "                 ...,\n",
              "                 [-0.1373, -0.1686, -0.2000,  ..., -0.1765, -0.1843, -0.2000],\n",
              "                 [-0.0824, -0.0745, -0.1451,  ..., -0.1765, -0.2314, -0.2392],\n",
              "                 [-0.1059, -0.0902, -0.1137,  ..., -0.2078, -0.2235, -0.2471]],\n",
              "\n",
              "                [[-0.0510, -0.0275, -0.0275,  ..., -0.2392, -0.1843, -0.2471],\n",
              "                 [-0.0588, -0.0353, -0.0275,  ..., -0.2235, -0.2000, -0.2549],\n",
              "                 [-0.0510, -0.0510, -0.0588,  ..., -0.2471, -0.2471, -0.2471],\n",
              "                 ...,\n",
              "                 [-0.1373, -0.1686, -0.2000,  ..., -0.1765, -0.1843, -0.2000],\n",
              "                 [-0.0824, -0.0745, -0.1451,  ..., -0.1765, -0.2314, -0.2392],\n",
              "                 [-0.1059, -0.0902, -0.1137,  ..., -0.2078, -0.2235, -0.2471]],\n",
              "\n",
              "                [[-0.0510, -0.0275, -0.0275,  ..., -0.2392, -0.1843, -0.2471],\n",
              "                 [-0.0588, -0.0353, -0.0275,  ..., -0.2235, -0.2000, -0.2549],\n",
              "                 [-0.0510, -0.0510, -0.0588,  ..., -0.2471, -0.2471, -0.2471],\n",
              "                 ...,\n",
              "                 [-0.1373, -0.1686, -0.2000,  ..., -0.1765, -0.1843, -0.2000],\n",
              "                 [-0.0824, -0.0745, -0.1451,  ..., -0.1765, -0.2314, -0.2392],\n",
              "                 [-0.1059, -0.0902, -0.1137,  ..., -0.2078, -0.2235, -0.2471]]]),\n",
              "        1],\n",
              "       [tensor([[[ 0.4118,  0.4824,  0.5137,  ..., -0.2000, -0.1922, -0.1922],\n",
              "                 [ 0.3961,  0.4745,  0.4980,  ..., -0.2000, -0.2078, -0.2000],\n",
              "                 [ 0.3961,  0.4980,  0.5216,  ..., -0.1922, -0.2078, -0.2078],\n",
              "                 ...,\n",
              "                 [ 0.0824,  0.0431,  0.0431,  ...,  0.3098,  0.2784,  0.2706],\n",
              "                 [ 0.0118,  0.0039, -0.0353,  ...,  0.2784,  0.2784,  0.2784],\n",
              "                 [-0.0510, -0.0275, -0.0667,  ...,  0.2549,  0.2627,  0.2392]],\n",
              "\n",
              "                [[ 0.4118,  0.4824,  0.5137,  ..., -0.2000, -0.1922, -0.1922],\n",
              "                 [ 0.3961,  0.4745,  0.4980,  ..., -0.2000, -0.2078, -0.2000],\n",
              "                 [ 0.3961,  0.4980,  0.5216,  ..., -0.1922, -0.2078, -0.2078],\n",
              "                 ...,\n",
              "                 [ 0.0824,  0.0431,  0.0431,  ...,  0.3098,  0.2784,  0.2706],\n",
              "                 [ 0.0118,  0.0039, -0.0353,  ...,  0.2784,  0.2784,  0.2784],\n",
              "                 [-0.0510, -0.0275, -0.0667,  ...,  0.2549,  0.2627,  0.2392]],\n",
              "\n",
              "                [[ 0.4118,  0.4824,  0.5137,  ..., -0.2000, -0.1922, -0.1922],\n",
              "                 [ 0.3961,  0.4745,  0.4980,  ..., -0.2000, -0.2078, -0.2000],\n",
              "                 [ 0.3961,  0.4980,  0.5216,  ..., -0.1922, -0.2078, -0.2078],\n",
              "                 ...,\n",
              "                 [ 0.0824,  0.0431,  0.0431,  ...,  0.3098,  0.2784,  0.2706],\n",
              "                 [ 0.0118,  0.0039, -0.0353,  ...,  0.2784,  0.2784,  0.2784],\n",
              "                 [-0.0510, -0.0275, -0.0667,  ...,  0.2549,  0.2627,  0.2392]]]),\n",
              "        1],\n",
              "       [tensor([[[-0.2627, -0.2392, -0.2314,  ..., -0.1216, -0.0980, -0.0353],\n",
              "                 [-0.2392, -0.2314, -0.2314,  ..., -0.1373, -0.1137, -0.0745],\n",
              "                 [-0.2392, -0.2314, -0.1922,  ..., -0.1059, -0.0745, -0.0275],\n",
              "                 ...,\n",
              "                 [ 0.3020,  0.3647,  0.4118,  ..., -0.1216, -0.1922, -0.0824],\n",
              "                 [ 0.2314,  0.2235,  0.2706,  ..., -0.1608, -0.0824, -0.0039],\n",
              "                 [ 0.2784,  0.1765,  0.1373,  ..., -0.2000, -0.1529, -0.0510]],\n",
              "\n",
              "                [[-0.2627, -0.2392, -0.2314,  ..., -0.1216, -0.0980, -0.0353],\n",
              "                 [-0.2392, -0.2314, -0.2314,  ..., -0.1373, -0.1137, -0.0745],\n",
              "                 [-0.2392, -0.2314, -0.1922,  ..., -0.1059, -0.0745, -0.0275],\n",
              "                 ...,\n",
              "                 [ 0.3020,  0.3647,  0.4118,  ..., -0.1216, -0.1922, -0.0824],\n",
              "                 [ 0.2314,  0.2235,  0.2706,  ..., -0.1608, -0.0824, -0.0039],\n",
              "                 [ 0.2784,  0.1765,  0.1373,  ..., -0.2000, -0.1529, -0.0510]],\n",
              "\n",
              "                [[-0.2627, -0.2392, -0.2314,  ..., -0.1216, -0.0980, -0.0353],\n",
              "                 [-0.2392, -0.2314, -0.2314,  ..., -0.1373, -0.1137, -0.0745],\n",
              "                 [-0.2392, -0.2314, -0.1922,  ..., -0.1059, -0.0745, -0.0275],\n",
              "                 ...,\n",
              "                 [ 0.3020,  0.3647,  0.4118,  ..., -0.1216, -0.1922, -0.0824],\n",
              "                 [ 0.2314,  0.2235,  0.2706,  ..., -0.1608, -0.0824, -0.0039],\n",
              "                 [ 0.2784,  0.1765,  0.1373,  ..., -0.2000, -0.1529, -0.0510]]]),\n",
              "        1],\n",
              "       [tensor([[[-0.4980, -0.4902, -0.5059,  ...,  0.3961,  0.3725,  0.3569],\n",
              "                 [-0.5451, -0.5529, -0.5608,  ...,  0.2706,  0.2784,  0.2863],\n",
              "                 [-0.5686, -0.5294, -0.5294,  ...,  0.2314,  0.2392,  0.2471],\n",
              "                 ...,\n",
              "                 [-0.0667, -0.0510, -0.0039,  ...,  0.2157,  0.1843,  0.1373],\n",
              "                 [-0.0667, -0.0510, -0.0039,  ...,  0.2392,  0.2235,  0.1922],\n",
              "                 [-0.0588, -0.0118,  0.0353,  ...,  0.2706,  0.2392,  0.1922]],\n",
              "\n",
              "                [[-0.4980, -0.4902, -0.5059,  ...,  0.3961,  0.3725,  0.3569],\n",
              "                 [-0.5451, -0.5529, -0.5608,  ...,  0.2706,  0.2784,  0.2863],\n",
              "                 [-0.5686, -0.5294, -0.5294,  ...,  0.2314,  0.2392,  0.2471],\n",
              "                 ...,\n",
              "                 [-0.0667, -0.0510, -0.0039,  ...,  0.2157,  0.1843,  0.1373],\n",
              "                 [-0.0667, -0.0510, -0.0039,  ...,  0.2392,  0.2235,  0.1922],\n",
              "                 [-0.0588, -0.0118,  0.0353,  ...,  0.2706,  0.2392,  0.1922]],\n",
              "\n",
              "                [[-0.4980, -0.4902, -0.5059,  ...,  0.3961,  0.3725,  0.3569],\n",
              "                 [-0.5451, -0.5529, -0.5608,  ...,  0.2706,  0.2784,  0.2863],\n",
              "                 [-0.5686, -0.5294, -0.5294,  ...,  0.2314,  0.2392,  0.2471],\n",
              "                 ...,\n",
              "                 [-0.0667, -0.0510, -0.0039,  ...,  0.2157,  0.1843,  0.1373],\n",
              "                 [-0.0667, -0.0510, -0.0039,  ...,  0.2392,  0.2235,  0.1922],\n",
              "                 [-0.0588, -0.0118,  0.0353,  ...,  0.2706,  0.2392,  0.1922]]]),\n",
              "        2],\n",
              "       [tensor([[[-0.4902, -0.4588, -0.3882,  ...,  0.2627,  0.2863,  0.3333],\n",
              "                 [-0.4588, -0.4431, -0.4353,  ...,  0.2706,  0.2784,  0.3569],\n",
              "                 [-0.4510, -0.4431, -0.4196,  ...,  0.2941,  0.3176,  0.3412],\n",
              "                 ...,\n",
              "                 [ 0.0431,  0.0745,  0.0980,  ...,  0.2627,  0.3176,  0.3098],\n",
              "                 [ 0.1373,  0.1137,  0.1373,  ...,  0.2941,  0.3176,  0.3176],\n",
              "                 [ 0.2000,  0.1922,  0.2078,  ...,  0.3098,  0.3255,  0.3490]],\n",
              "\n",
              "                [[-0.4902, -0.4588, -0.3882,  ...,  0.2627,  0.2863,  0.3333],\n",
              "                 [-0.4588, -0.4431, -0.4353,  ...,  0.2706,  0.2784,  0.3569],\n",
              "                 [-0.4510, -0.4431, -0.4196,  ...,  0.2941,  0.3176,  0.3412],\n",
              "                 ...,\n",
              "                 [ 0.0431,  0.0745,  0.0980,  ...,  0.2627,  0.3176,  0.3098],\n",
              "                 [ 0.1373,  0.1137,  0.1373,  ...,  0.2941,  0.3176,  0.3176],\n",
              "                 [ 0.2000,  0.1922,  0.2078,  ...,  0.3098,  0.3255,  0.3490]],\n",
              "\n",
              "                [[-0.4902, -0.4588, -0.3882,  ...,  0.2627,  0.2863,  0.3333],\n",
              "                 [-0.4588, -0.4431, -0.4353,  ...,  0.2706,  0.2784,  0.3569],\n",
              "                 [-0.4510, -0.4431, -0.4196,  ...,  0.2941,  0.3176,  0.3412],\n",
              "                 ...,\n",
              "                 [ 0.0431,  0.0745,  0.0980,  ...,  0.2627,  0.3176,  0.3098],\n",
              "                 [ 0.1373,  0.1137,  0.1373,  ...,  0.2941,  0.3176,  0.3176],\n",
              "                 [ 0.2000,  0.1922,  0.2078,  ...,  0.3098,  0.3255,  0.3490]]]),\n",
              "        2],\n",
              "       [tensor([[[ 0.3020,  0.2863,  0.3255,  ...,  0.3020,  0.3490,  0.4275],\n",
              "                 [ 0.3647,  0.3804,  0.3333,  ...,  0.2235,  0.3569,  0.3882],\n",
              "                 [ 0.3569,  0.3333,  0.3020,  ...,  0.2000,  0.2706,  0.2627],\n",
              "                 ...,\n",
              "                 [ 0.4039,  0.3490,  0.3725,  ..., -0.0118, -0.0510, -0.0667],\n",
              "                 [ 0.4353,  0.4039,  0.4353,  ...,  0.0118, -0.0039, -0.0510],\n",
              "                 [ 0.4667,  0.4431,  0.3804,  ..., -0.0510, -0.0902, -0.0667]],\n",
              "\n",
              "                [[ 0.3020,  0.2863,  0.3255,  ...,  0.3020,  0.3490,  0.4275],\n",
              "                 [ 0.3647,  0.3804,  0.3333,  ...,  0.2235,  0.3569,  0.3882],\n",
              "                 [ 0.3569,  0.3333,  0.3020,  ...,  0.2000,  0.2706,  0.2627],\n",
              "                 ...,\n",
              "                 [ 0.4039,  0.3490,  0.3725,  ..., -0.0118, -0.0510, -0.0667],\n",
              "                 [ 0.4353,  0.4039,  0.4353,  ...,  0.0118, -0.0039, -0.0510],\n",
              "                 [ 0.4667,  0.4431,  0.3804,  ..., -0.0510, -0.0902, -0.0667]],\n",
              "\n",
              "                [[ 0.3020,  0.2863,  0.3255,  ...,  0.3020,  0.3490,  0.4275],\n",
              "                 [ 0.3647,  0.3804,  0.3333,  ...,  0.2235,  0.3569,  0.3882],\n",
              "                 [ 0.3569,  0.3333,  0.3020,  ...,  0.2000,  0.2706,  0.2627],\n",
              "                 ...,\n",
              "                 [ 0.4039,  0.3490,  0.3725,  ..., -0.0118, -0.0510, -0.0667],\n",
              "                 [ 0.4353,  0.4039,  0.4353,  ...,  0.0118, -0.0039, -0.0510],\n",
              "                 [ 0.4667,  0.4431,  0.3804,  ..., -0.0510, -0.0902, -0.0667]]]),\n",
              "        2],\n",
              "       [tensor([[[ 0.0196,  0.0275,  0.0510,  ..., -0.3333, -0.3176, -0.3255],\n",
              "                 [-0.0039, -0.0196, -0.0039,  ..., -0.3020, -0.2941, -0.2941],\n",
              "                 [-0.0431, -0.0431, -0.0588,  ..., -0.2784, -0.2784, -0.2941],\n",
              "                 ...,\n",
              "                 [-0.4902, -0.4588, -0.4118,  ...,  0.3020,  0.2627,  0.2000],\n",
              "                 [-0.4824, -0.4588, -0.4039,  ...,  0.3569,  0.3020,  0.2706],\n",
              "                 [-0.4667, -0.4275, -0.3882,  ...,  0.4196,  0.4039,  0.3412]],\n",
              "\n",
              "                [[ 0.0196,  0.0275,  0.0510,  ..., -0.3333, -0.3176, -0.3255],\n",
              "                 [-0.0039, -0.0196, -0.0039,  ..., -0.3020, -0.2941, -0.2941],\n",
              "                 [-0.0431, -0.0431, -0.0588,  ..., -0.2784, -0.2784, -0.2941],\n",
              "                 ...,\n",
              "                 [-0.4902, -0.4588, -0.4118,  ...,  0.3020,  0.2627,  0.2000],\n",
              "                 [-0.4824, -0.4588, -0.4039,  ...,  0.3569,  0.3020,  0.2706],\n",
              "                 [-0.4667, -0.4275, -0.3882,  ...,  0.4196,  0.4039,  0.3412]],\n",
              "\n",
              "                [[ 0.0196,  0.0275,  0.0510,  ..., -0.3333, -0.3176, -0.3255],\n",
              "                 [-0.0039, -0.0196, -0.0039,  ..., -0.3020, -0.2941, -0.2941],\n",
              "                 [-0.0431, -0.0431, -0.0588,  ..., -0.2784, -0.2784, -0.2941],\n",
              "                 ...,\n",
              "                 [-0.4902, -0.4588, -0.4118,  ...,  0.3020,  0.2627,  0.2000],\n",
              "                 [-0.4824, -0.4588, -0.4039,  ...,  0.3569,  0.3020,  0.2706],\n",
              "                 [-0.4667, -0.4275, -0.3882,  ...,  0.4196,  0.4039,  0.3412]]]),\n",
              "        2],\n",
              "       [tensor([[[ 0.3569,  0.4118,  0.4745,  ..., -1.0000, -1.0000, -1.0000],\n",
              "                 [ 0.2941,  0.3490,  0.5137,  ..., -1.0000, -1.0000, -1.0000],\n",
              "                 [ 0.3333,  0.3961,  0.5059,  ..., -1.0000, -1.0000, -1.0000],\n",
              "                 ...,\n",
              "                 [ 0.3882,  0.3804,  0.3255,  ...,  0.2471,  0.2471,  0.2235],\n",
              "                 [ 0.3098,  0.2863,  0.2863,  ...,  0.2314,  0.2157,  0.2157],\n",
              "                 [ 0.2549,  0.2235,  0.2000,  ...,  0.2392,  0.2078,  0.1922]],\n",
              "\n",
              "                [[ 0.3569,  0.4118,  0.4745,  ..., -1.0000, -1.0000, -1.0000],\n",
              "                 [ 0.2941,  0.3490,  0.5137,  ..., -1.0000, -1.0000, -1.0000],\n",
              "                 [ 0.3333,  0.3961,  0.5059,  ..., -1.0000, -1.0000, -1.0000],\n",
              "                 ...,\n",
              "                 [ 0.3882,  0.3804,  0.3255,  ...,  0.2471,  0.2471,  0.2235],\n",
              "                 [ 0.3098,  0.2863,  0.2863,  ...,  0.2314,  0.2157,  0.2157],\n",
              "                 [ 0.2549,  0.2235,  0.2000,  ...,  0.2392,  0.2078,  0.1922]],\n",
              "\n",
              "                [[ 0.3569,  0.4118,  0.4745,  ..., -1.0000, -1.0000, -1.0000],\n",
              "                 [ 0.2941,  0.3490,  0.5137,  ..., -1.0000, -1.0000, -1.0000],\n",
              "                 [ 0.3333,  0.3961,  0.5059,  ..., -1.0000, -1.0000, -1.0000],\n",
              "                 ...,\n",
              "                 [ 0.3882,  0.3804,  0.3255,  ...,  0.2471,  0.2471,  0.2235],\n",
              "                 [ 0.3098,  0.2863,  0.2863,  ...,  0.2314,  0.2157,  0.2157],\n",
              "                 [ 0.2549,  0.2235,  0.2000,  ...,  0.2392,  0.2078,  0.1922]]]),\n",
              "        2],\n",
              "       [tensor([[[ 0.4588,  0.4431,  0.4353,  ...,  0.0667,  0.0745, -0.0118],\n",
              "                 [ 0.5216,  0.5137,  0.5137,  ...,  0.0588,  0.0353,  0.0431],\n",
              "                 [ 0.5686,  0.5373,  0.5059,  ...,  0.0745,  0.0667,  0.0510],\n",
              "                 ...,\n",
              "                 [ 0.3020,  0.2941,  0.3020,  ...,  0.2471,  0.2863,  0.2863],\n",
              "                 [ 0.2863,  0.3176,  0.3412,  ...,  0.2941,  0.3098,  0.3725],\n",
              "                 [ 0.2549,  0.3020,  0.3725,  ...,  0.3255,  0.3804,  0.3961]],\n",
              "\n",
              "                [[ 0.4588,  0.4431,  0.4353,  ...,  0.0667,  0.0745, -0.0118],\n",
              "                 [ 0.5216,  0.5137,  0.5137,  ...,  0.0588,  0.0353,  0.0431],\n",
              "                 [ 0.5686,  0.5373,  0.5059,  ...,  0.0745,  0.0667,  0.0510],\n",
              "                 ...,\n",
              "                 [ 0.3020,  0.2941,  0.3020,  ...,  0.2471,  0.2863,  0.2863],\n",
              "                 [ 0.2863,  0.3176,  0.3412,  ...,  0.2941,  0.3098,  0.3725],\n",
              "                 [ 0.2549,  0.3020,  0.3725,  ...,  0.3255,  0.3804,  0.3961]],\n",
              "\n",
              "                [[ 0.4588,  0.4431,  0.4353,  ...,  0.0667,  0.0745, -0.0118],\n",
              "                 [ 0.5216,  0.5137,  0.5137,  ...,  0.0588,  0.0353,  0.0431],\n",
              "                 [ 0.5686,  0.5373,  0.5059,  ...,  0.0745,  0.0667,  0.0510],\n",
              "                 ...,\n",
              "                 [ 0.3020,  0.2941,  0.3020,  ...,  0.2471,  0.2863,  0.2863],\n",
              "                 [ 0.2863,  0.3176,  0.3412,  ...,  0.2941,  0.3098,  0.3725],\n",
              "                 [ 0.2549,  0.3020,  0.3725,  ...,  0.3255,  0.3804,  0.3961]]]),\n",
              "        2],\n",
              "       [tensor([[[0.5373, 0.5373, 0.5373,  ..., 0.3569, 0.3176, 0.2941],\n",
              "                 [0.5137, 0.5216, 0.5529,  ..., 0.3020, 0.3176, 0.3569],\n",
              "                 [0.4980, 0.5137, 0.5216,  ..., 0.3412, 0.3569, 0.3725],\n",
              "                 ...,\n",
              "                 [0.1765, 0.1294, 0.1137,  ..., 0.4431, 0.3882, 0.3647],\n",
              "                 [0.2157, 0.1843, 0.1843,  ..., 0.4039, 0.3490, 0.3255],\n",
              "                 [0.2706, 0.2941, 0.2784,  ..., 0.4039, 0.3412, 0.3176]],\n",
              "\n",
              "                [[0.5373, 0.5373, 0.5373,  ..., 0.3569, 0.3176, 0.2941],\n",
              "                 [0.5137, 0.5216, 0.5529,  ..., 0.3020, 0.3176, 0.3569],\n",
              "                 [0.4980, 0.5137, 0.5216,  ..., 0.3412, 0.3569, 0.3725],\n",
              "                 ...,\n",
              "                 [0.1765, 0.1294, 0.1137,  ..., 0.4431, 0.3882, 0.3647],\n",
              "                 [0.2157, 0.1843, 0.1843,  ..., 0.4039, 0.3490, 0.3255],\n",
              "                 [0.2706, 0.2941, 0.2784,  ..., 0.4039, 0.3412, 0.3176]],\n",
              "\n",
              "                [[0.5373, 0.5373, 0.5373,  ..., 0.3569, 0.3176, 0.2941],\n",
              "                 [0.5137, 0.5216, 0.5529,  ..., 0.3020, 0.3176, 0.3569],\n",
              "                 [0.4980, 0.5137, 0.5216,  ..., 0.3412, 0.3569, 0.3725],\n",
              "                 ...,\n",
              "                 [0.1765, 0.1294, 0.1137,  ..., 0.4431, 0.3882, 0.3647],\n",
              "                 [0.2157, 0.1843, 0.1843,  ..., 0.4039, 0.3490, 0.3255],\n",
              "                 [0.2706, 0.2941, 0.2784,  ..., 0.4039, 0.3412, 0.3176]]]),\n",
              "        2],\n",
              "       [tensor([[[-0.2000, -0.2078, -0.2235,  ...,  0.0275,  0.0275,  0.0196],\n",
              "                 [-0.2000, -0.2078, -0.2078,  ..., -0.0039,  0.0118,  0.0196],\n",
              "                 [-0.1608, -0.1451, -0.1608,  ...,  0.0039,  0.0353,  0.0824],\n",
              "                 ...,\n",
              "                 [-0.2000, -0.2000, -0.2000,  ..., -0.9922, -0.9922, -0.9922],\n",
              "                 [-0.2157, -0.2078, -0.2078,  ..., -1.0000, -1.0000, -1.0000],\n",
              "                 [-0.1922, -0.2000, -0.2000,  ..., -1.0000, -1.0000, -1.0000]],\n",
              "\n",
              "                [[-0.2000, -0.2078, -0.2235,  ...,  0.0275,  0.0275,  0.0196],\n",
              "                 [-0.2000, -0.2078, -0.2078,  ..., -0.0039,  0.0118,  0.0196],\n",
              "                 [-0.1608, -0.1451, -0.1608,  ...,  0.0039,  0.0353,  0.0824],\n",
              "                 ...,\n",
              "                 [-0.2000, -0.2000, -0.2000,  ..., -0.9922, -0.9922, -0.9922],\n",
              "                 [-0.2157, -0.2078, -0.2078,  ..., -1.0000, -1.0000, -1.0000],\n",
              "                 [-0.1922, -0.2000, -0.2000,  ..., -1.0000, -1.0000, -1.0000]],\n",
              "\n",
              "                [[-0.2000, -0.2078, -0.2235,  ...,  0.0275,  0.0275,  0.0196],\n",
              "                 [-0.2000, -0.2078, -0.2078,  ..., -0.0039,  0.0118,  0.0196],\n",
              "                 [-0.1608, -0.1451, -0.1608,  ...,  0.0039,  0.0353,  0.0824],\n",
              "                 ...,\n",
              "                 [-0.2000, -0.2000, -0.2000,  ..., -0.9922, -0.9922, -0.9922],\n",
              "                 [-0.2157, -0.2078, -0.2078,  ..., -1.0000, -1.0000, -1.0000],\n",
              "                 [-0.1922, -0.2000, -0.2000,  ..., -1.0000, -1.0000, -1.0000]]]),\n",
              "        2]], dtype=object)"
            ]
          },
          "metadata": {},
          "execution_count": 73
        }
      ]
    },
    {
      "cell_type": "code",
      "source": [
        "import requests\n",
        "from pathlib import Path \n",
        "if Path(\"helper_functions.py\").is_file():\n",
        "    print(\"helper_functions.py already exists, skipping download\")\n",
        "else:\n",
        "    print(\"Downloading helper_functions.py\")\n",
        "    request = requests.get(\"https://raw.githubusercontent.com/mrdbourke/pytorch-deep-learning/main/helper_functions.py\")\n",
        "    with open(\"helper_functions.py\", \"wb\") as f:\n",
        "        f.write(request.content)\n"
      ],
      "metadata": {
        "id": "kjXv6IhnUGTP",
        "colab": {
          "base_uri": "https://localhost:8080/"
        },
        "outputId": "ddd6f3d0-eab7-4352-c6f9-57aa44c9192b"
      },
      "execution_count": 76,
      "outputs": [
        {
          "output_type": "stream",
          "name": "stdout",
          "text": [
            "helper_functions.py already exists, skipping download\n"
          ]
        }
      ]
    },
    {
      "cell_type": "code",
      "source": [
        "class ModelV2(nn.Module):\n",
        "    def __init__(self, input_shape: int, hidden_units: int, output_shape: int):\n",
        "        super().__init__()\n",
        "        self.block_1 = nn.Sequential(\n",
        "            nn.Conv2d(in_channels = input_shape, \n",
        "                      out_channels = hidden_units, \n",
        "                      kernel_size = 3,\n",
        "                      stride = 1,\n",
        "                      padding = 1),\n",
        "            nn.ReLU(),\n",
        "            nn.Conv2d(in_channels = hidden_units, \n",
        "                      out_channels = hidden_units,\n",
        "                      kernel_size = 3,\n",
        "                      stride = 1,\n",
        "                      padding = 1),\n",
        "            nn.ReLU(),\n",
        "            nn.MaxPool2d(kernel_size = 2,\n",
        "                         stride = 2)\n",
        "        )\n",
        "        self.block_2 = nn.Sequential(\n",
        "            nn.Conv2d(hidden_units, hidden_units, 3, padding = 1),\n",
        "            nn.ReLU(),\n",
        "            nn.Conv2d(hidden_units, hidden_units, 3, padding = 1),\n",
        "            nn.ReLU(),\n",
        "            nn.MaxPool2d(2)\n",
        "        )\n",
        "        self.classifier = nn.Sequential(\n",
        "            nn.Flatten(),\n",
        "            nn.Linear(in_features=10240, \n",
        "                out_features=output_shape)\n",
        "        )\n",
        "        self.dropout = nn.Dropout(0.25)\n",
        "    \n",
        "    def forward(self, x: torch.Tensor):\n",
        "        x = self.block_1(x)\n",
        "        x = self.dropout(x)\n",
        "        x = self.block_2(x)\n",
        "        x = self.classifier(x)\n",
        "        return x\n",
        "\n",
        "torch.manual_seed(42)\n",
        "model_2 = ModelV2(input_shape=3, \n",
        "    hidden_units = 10, \n",
        "    output_shape = len(classes)).to(device)\n",
        "model_2\n"
      ],
      "metadata": {
        "id": "VSq8b31xRoj7",
        "colab": {
          "base_uri": "https://localhost:8080/"
        },
        "outputId": "18e5d7fa-f9ad-4c81-ff80-51c50f27cbcc"
      },
      "execution_count": 78,
      "outputs": [
        {
          "output_type": "execute_result",
          "data": {
            "text/plain": [
              "ModelV2(\n",
              "  (block_1): Sequential(\n",
              "    (0): Conv2d(3, 10, kernel_size=(3, 3), stride=(1, 1), padding=(1, 1))\n",
              "    (1): ReLU()\n",
              "    (2): Conv2d(10, 10, kernel_size=(3, 3), stride=(1, 1), padding=(1, 1))\n",
              "    (3): ReLU()\n",
              "    (4): MaxPool2d(kernel_size=2, stride=2, padding=0, dilation=1, ceil_mode=False)\n",
              "  )\n",
              "  (block_2): Sequential(\n",
              "    (0): Conv2d(10, 10, kernel_size=(3, 3), stride=(1, 1), padding=(1, 1))\n",
              "    (1): ReLU()\n",
              "    (2): Conv2d(10, 10, kernel_size=(3, 3), stride=(1, 1), padding=(1, 1))\n",
              "    (3): ReLU()\n",
              "    (4): MaxPool2d(kernel_size=2, stride=2, padding=0, dilation=1, ceil_mode=False)\n",
              "  )\n",
              "  (classifier): Sequential(\n",
              "    (0): Flatten(start_dim=1, end_dim=-1)\n",
              "    (1): Linear(in_features=10240, out_features=3, bias=True)\n",
              "  )\n",
              "  (dropout): Dropout(p=0.25, inplace=False)\n",
              ")"
            ]
          },
          "metadata": {},
          "execution_count": 78
        }
      ]
    },
    {
      "cell_type": "code",
      "source": [
        "from helper_functions import accuracy_fn\n",
        "loss_fn = nn.CrossEntropyLoss()\n",
        "optimizer = Adam(model_2.parameters(),lr = 0.001,weight_decay = 0.0001)"
      ],
      "metadata": {
        "id": "Mmg2siuo8tni"
      },
      "execution_count": 81,
      "outputs": []
    },
    {
      "cell_type": "code",
      "source": [
        "train_count = len(glob.glob(train_path+'/**/*.png'))\n",
        "test_count = len(glob.glob(test_path+'/**/*.png'))"
      ],
      "metadata": {
        "id": "xhASyvat8yxZ"
      },
      "execution_count": 82,
      "outputs": []
    },
    {
      "cell_type": "code",
      "source": [
        "print(train_count,test_count)"
      ],
      "metadata": {
        "id": "79x3SX_B807J",
        "colab": {
          "base_uri": "https://localhost:8080/"
        },
        "outputId": "5f349032-615a-4450-8e82-accd16bdce27"
      },
      "execution_count": 83,
      "outputs": [
        {
          "output_type": "stream",
          "name": "stdout",
          "text": [
            "24 24\n"
          ]
        }
      ]
    },
    {
      "cell_type": "code",
      "source": [
        "from timeit import default_timer as timer \n",
        "def print_train_time(start: float, end: float, device: torch.device = None):\n",
        "    total_time = end - start\n",
        "    print(f\"Train time on {device}: {total_time:.3f} seconds\")\n",
        "    return total_time"
      ],
      "metadata": {
        "id": "I03L-dRgTrvF"
      },
      "execution_count": 84,
      "outputs": []
    },
    {
      "cell_type": "code",
      "source": [
        "def train_step(model: torch.nn.Module,\n",
        "               data_loader: torch.utils.data.DataLoader,\n",
        "               loss_fn: torch.nn.Module,\n",
        "               optimizer: torch.optim.Optimizer,\n",
        "               accuracy_fn,\n",
        "               device: torch.device = device):\n",
        "    train_loss, train_acc = 0, 0\n",
        "    for batch, (X, y) in enumerate(data_loader):\n",
        "        X, y = X.to(device), y.to(device)\n",
        "        y_pred = model(X)\n",
        "        loss = loss_fn(y_pred, y)\n",
        "        train_loss += loss\n",
        "        train_acc += accuracy_fn(y_true=y,\n",
        "                                 y_pred=y_pred.argmax(dim=1))\n",
        "        optimizer.zero_grad()\n",
        "        loss.backward()\n",
        "        optimizer.step()\n",
        "\n",
        "    train_loss /= len(data_loader)\n",
        "    train_acc /= len(data_loader)\n",
        "    print(f\"Train loss: {train_loss:.5f} | Train accuracy: {train_acc:.2f}%\")\n",
        "\n",
        "def test_step(data_loader: torch.utils.data.DataLoader,\n",
        "              model: torch.nn.Module,\n",
        "              loss_fn: torch.nn.Module,\n",
        "              accuracy_fn,\n",
        "              device: torch.device = device):\n",
        "    test_loss, test_acc = 0, 0\n",
        "    model.eval()\n",
        "    with torch.inference_mode(): \n",
        "        for X, y in data_loader:\n",
        "            X, y = X.to(device), y.to(device)\n",
        "            test_pred = model(X)\n",
        "            test_loss += loss_fn(test_pred, y)\n",
        "            test_acc += accuracy_fn(y_true=y,\n",
        "                y_pred=test_pred.argmax(dim=1) # Go from logits -> pred labels\n",
        "            )\n",
        "        test_loss /= len(data_loader)\n",
        "        test_acc /= len(data_loader)\n",
        "        print(f\"Test loss: {test_loss:.5f} | Test accuracy: {test_acc:.2f}%\\n\")"
      ],
      "metadata": {
        "id": "0dJcQrSaTQLz"
      },
      "execution_count": 85,
      "outputs": []
    },
    {
      "cell_type": "code",
      "source": [
        "from tqdm.auto import tqdm\n",
        "from timeit import default_timer as timer\n",
        "\n",
        "torch.manual_seed(42)\n",
        "train_time_start_model_2 = timer()\n",
        "epochs = 20\n",
        "for epoch in tqdm(range(epochs)):\n",
        "    print(f\"Epoch: {epoch}\\n---------\")\n",
        "    train_step(data_loader=train_loader, \n",
        "        model = model_2, \n",
        "        loss_fn = loss_fn,\n",
        "        optimizer = optimizer,\n",
        "        accuracy_fn = accuracy_fn,\n",
        "        device = device\n",
        "    )\n",
        "    test_step(data_loader=test_loader,\n",
        "        model = model_2,\n",
        "        loss_fn = loss_fn,\n",
        "        accuracy_fn = accuracy_fn,\n",
        "        device = device\n",
        "    )\n",
        "\n",
        "train_time_end_model_2 = timer()\n",
        "total_train_time_model_2 = print_train_time(start = train_time_start_model_2,\n",
        "                                           end = train_time_end_model_2,\n",
        "                                           device = device)\n",
        "[0.8219,0.8367,0.8469,0.8532,0.8527,0.8536,0.8590,0.8643,0.8612,0.8647,0.8690,0.8751,0.8840,0.8853,0.8959,0.9032,0.9144,0.9170,0.9293,0.9309]"
      ],
      "metadata": {
        "id": "HAH1JmtxSxFz",
        "colab": {
          "base_uri": "https://localhost:8080/",
          "height": 1000,
          "referenced_widgets": [
            "993e36ed6d2c458188761757f79b66eb",
            "b86bb5cf929f489daab0514c860f3769",
            "2952eaa2fe9843c7ac0c2215e24652e4",
            "7464eac9bf2f454fba4aed49136dac70",
            "6a810f06fbb348e78fc2fc1d635b72d2",
            "d6c0e4b2ffea40e9b65f65ec61077178",
            "5195186e9e374b6c90a754a374ceb98d",
            "824ccd01158249f19863d4879bc65485",
            "8161a885033f485a8032b747168695eb",
            "fea1bae4421e4123b90120db1d5f5012",
            "a569be9e65e24ad1b73bb4b786236690"
          ]
        },
        "outputId": "1306ebad-4c0f-4116-bd00-5ed577e8bb7d"
      },
      "execution_count": 86,
      "outputs": [
        {
          "output_type": "display_data",
          "data": {
            "text/plain": [
              "  0%|          | 0/20 [00:00<?, ?it/s]"
            ],
            "application/vnd.jupyter.widget-view+json": {
              "version_major": 2,
              "version_minor": 0,
              "model_id": "993e36ed6d2c458188761757f79b66eb"
            }
          },
          "metadata": {}
        },
        {
          "output_type": "stream",
          "name": "stdout",
          "text": [
            "Epoch: 0\n",
            "---------\n",
            "Train loss: 1.09880 | Train accuracy: 37.50%\n",
            "Test loss: 1.12583 | Test accuracy: 33.33%\n",
            "\n",
            "Epoch: 1\n",
            "---------\n",
            "Train loss: 1.12109 | Train accuracy: 33.33%\n",
            "Test loss: 1.10139 | Test accuracy: 33.33%\n",
            "\n",
            "Epoch: 2\n",
            "---------\n",
            "Train loss: 1.09232 | Train accuracy: 33.33%\n",
            "Test loss: 1.10440 | Test accuracy: 33.33%\n",
            "\n",
            "Epoch: 3\n",
            "---------\n",
            "Train loss: 1.08909 | Train accuracy: 45.83%\n",
            "Test loss: 1.11282 | Test accuracy: 33.33%\n",
            "\n",
            "Epoch: 4\n",
            "---------\n",
            "Train loss: 1.08740 | Train accuracy: 33.33%\n",
            "Test loss: 1.10814 | Test accuracy: 33.33%\n",
            "\n",
            "Epoch: 5\n",
            "---------\n",
            "Train loss: 1.06945 | Train accuracy: 45.83%\n",
            "Test loss: 1.10125 | Test accuracy: 33.33%\n",
            "\n",
            "Epoch: 6\n",
            "---------\n",
            "Train loss: 1.04799 | Train accuracy: 54.17%\n",
            "Test loss: 1.10053 | Test accuracy: 29.17%\n",
            "\n",
            "Epoch: 7\n",
            "---------\n",
            "Train loss: 1.02898 | Train accuracy: 54.17%\n",
            "Test loss: 1.10570 | Test accuracy: 25.00%\n",
            "\n",
            "Epoch: 8\n",
            "---------\n",
            "Train loss: 1.00978 | Train accuracy: 58.33%\n",
            "Test loss: 1.11275 | Test accuracy: 33.33%\n",
            "\n",
            "Epoch: 9\n",
            "---------\n",
            "Train loss: 0.98490 | Train accuracy: 50.00%\n",
            "Test loss: 1.11830 | Test accuracy: 37.50%\n",
            "\n",
            "Epoch: 10\n",
            "---------\n",
            "Train loss: 0.95104 | Train accuracy: 54.17%\n",
            "Test loss: 1.12396 | Test accuracy: 41.67%\n",
            "\n",
            "Epoch: 11\n",
            "---------\n",
            "Train loss: 0.91023 | Train accuracy: 75.00%\n",
            "Test loss: 1.13524 | Test accuracy: 37.50%\n",
            "\n",
            "Epoch: 12\n",
            "---------\n",
            "Train loss: 0.86727 | Train accuracy: 79.17%\n",
            "Test loss: 1.15525 | Test accuracy: 37.50%\n",
            "\n",
            "Epoch: 13\n",
            "---------\n",
            "Train loss: 0.82320 | Train accuracy: 79.17%\n",
            "Test loss: 1.18123 | Test accuracy: 41.67%\n",
            "\n",
            "Epoch: 14\n",
            "---------\n",
            "Train loss: 0.77358 | Train accuracy: 75.00%\n",
            "Test loss: 1.21013 | Test accuracy: 45.83%\n",
            "\n",
            "Epoch: 15\n",
            "---------\n",
            "Train loss: 0.71627 | Train accuracy: 79.17%\n",
            "Test loss: 1.24287 | Test accuracy: 41.67%\n",
            "\n",
            "Epoch: 16\n",
            "---------\n",
            "Train loss: 0.65478 | Train accuracy: 83.33%\n",
            "Test loss: 1.28240 | Test accuracy: 41.67%\n",
            "\n",
            "Epoch: 17\n",
            "---------\n",
            "Train loss: 0.59275 | Train accuracy: 83.33%\n",
            "Test loss: 1.32566 | Test accuracy: 41.67%\n",
            "\n",
            "Epoch: 18\n",
            "---------\n",
            "Train loss: 0.52527 | Train accuracy: 83.33%\n",
            "Test loss: 1.37785 | Test accuracy: 45.83%\n",
            "\n",
            "Epoch: 19\n",
            "---------\n",
            "Train loss: 0.44998 | Train accuracy: 87.50%\n",
            "Test loss: 1.45679 | Test accuracy: 45.83%\n",
            "\n",
            "Train time on cpu: 14.227 seconds\n"
          ]
        },
        {
          "output_type": "execute_result",
          "data": {
            "text/plain": [
              "[0.8219,\n",
              " 0.8367,\n",
              " 0.8469,\n",
              " 0.8532,\n",
              " 0.8527,\n",
              " 0.8536,\n",
              " 0.859,\n",
              " 0.8643,\n",
              " 0.8612,\n",
              " 0.8647,\n",
              " 0.869,\n",
              " 0.8751,\n",
              " 0.884,\n",
              " 0.8853,\n",
              " 0.8959,\n",
              " 0.9032,\n",
              " 0.9144,\n",
              " 0.917,\n",
              " 0.9293,\n",
              " 0.9309]"
            ]
          },
          "metadata": {},
          "execution_count": 86
        }
      ]
    },
    {
      "cell_type": "code",
      "source": [
        "torch.manual_seed(42)\n",
        "def eval_model(model: torch.nn.Module, \n",
        "               data_loader: torch.utils.data.DataLoader, \n",
        "               loss_fn: torch.nn.Module, \n",
        "               accuracy_fn):\n",
        "\n",
        "    loss, acc = 0, 0\n",
        "    model.eval()\n",
        "    with torch.inference_mode():\n",
        "        for X, y in data_loader:\n",
        "            y_pred = model(X)\n",
        "            loss += loss_fn(y_pred, y)\n",
        "            acc += accuracy_fn(y_true=y, \n",
        "                y_pred=y_pred.argmax(dim=1))\n",
        "        loss /= len(data_loader)\n",
        "        acc /= len(data_loader)\n",
        "    return {\"model_name\": model.__class__.__name__,\n",
        "            \"model_loss\": loss.item(),\n",
        "            \"model_acc\": acc\n",
        "           }\n"
      ],
      "metadata": {
        "id": "fbuxmfGRInqB"
      },
      "execution_count": 91,
      "outputs": []
    },
    {
      "cell_type": "code",
      "source": [
        "results = eval_model(\n",
        "    model_2,\n",
        "    data_loader=test_loader,\n",
        "    loss_fn=loss_fn,\n",
        "    accuracy_fn=accuracy_fn\n",
        ")\n",
        "results"
      ],
      "metadata": {
        "id": "Nf-57cvEIXea",
        "colab": {
          "base_uri": "https://localhost:8080/"
        },
        "outputId": "1971b163-cfad-4b18-9442-bba906106855"
      },
      "execution_count": 92,
      "outputs": [
        {
          "output_type": "execute_result",
          "data": {
            "text/plain": [
              "{'model_name': 'ModelV2',\n",
              " 'model_loss': 1.4567934274673462,\n",
              " 'model_acc': 45.83333333333333}"
            ]
          },
          "metadata": {},
          "execution_count": 92
        }
      ]
    },
    {
      "cell_type": "code",
      "source": [
        "def make_predictions(model: torch.nn.Module, data: list, device: torch.device = device):\n",
        "    pred_probs = []\n",
        "    model.eval()\n",
        "    with torch.inference_mode():\n",
        "        for sample in data:\n",
        "            sample = torch.unsqueeze(sample, dim=0).to(device) # Add an extra dimension and send sample to device\n",
        "            pred_logit = model(sample)\n",
        "            pred_prob = torch.softmax(pred_logit.squeeze(), dim=0)\n",
        "            pred_probs.append(pred_prob.cpu())            \n",
        "    return torch.stack(pred_probs)"
      ],
      "metadata": {
        "id": "aE80WFYb-pvx"
      },
      "execution_count": 93,
      "outputs": []
    },
    {
      "cell_type": "code",
      "source": [
        "import random\n",
        "test_samples = []\n",
        "test_labels = []\n",
        "for sample, label in random.sample(list(test_np), k=20):\n",
        "    test_samples.append(sample)\n",
        "    test_labels.append(label)\n",
        "print(f\"Test sample image shape: {test_samples[0].shape}\\nTest sample label: {test_labels[5]} ({classes[test_labels[5]]})\")"
      ],
      "metadata": {
        "id": "oubhNTu_eOnI",
        "colab": {
          "base_uri": "https://localhost:8080/"
        },
        "outputId": "571955db-7a76-4348-f644-520c017cf58f"
      },
      "execution_count": 94,
      "outputs": [
        {
          "output_type": "stream",
          "name": "stdout",
          "text": [
            "Test sample image shape: torch.Size([3, 128, 128])\n",
            "Test sample label: 2 (normal)\n"
          ]
        }
      ]
    },
    {
      "cell_type": "code",
      "source": [
        "pred_probs= make_predictions(model=model_2, data=test_samples)\n",
        "pred_probs"
      ],
      "metadata": {
        "id": "NuNmvzdGdkWy",
        "colab": {
          "base_uri": "https://localhost:8080/"
        },
        "outputId": "8d25c033-a276-48ac-d32f-f373d96684d6"
      },
      "execution_count": 96,
      "outputs": [
        {
          "output_type": "execute_result",
          "data": {
            "text/plain": [
              "tensor([[0.3375, 0.0086, 0.6538],\n",
              "        [0.1336, 0.2334, 0.6331],\n",
              "        [0.8485, 0.0420, 0.1095],\n",
              "        [0.6165, 0.1786, 0.2050],\n",
              "        [0.6082, 0.1326, 0.2592],\n",
              "        [0.3461, 0.2926, 0.3613],\n",
              "        [0.3485, 0.3448, 0.3067],\n",
              "        [0.1868, 0.0360, 0.7772],\n",
              "        [0.0965, 0.8730, 0.0305],\n",
              "        [0.5204, 0.0927, 0.3869],\n",
              "        [0.1582, 0.1968, 0.6450],\n",
              "        [0.4261, 0.0145, 0.5595],\n",
              "        [0.4434, 0.2637, 0.2929],\n",
              "        [0.0679, 0.0031, 0.9291],\n",
              "        [0.2822, 0.0080, 0.7099],\n",
              "        [0.5162, 0.0365, 0.4473],\n",
              "        [0.3255, 0.3114, 0.3631],\n",
              "        [0.1326, 0.0177, 0.8497],\n",
              "        [0.2322, 0.4801, 0.2877],\n",
              "        [0.5678, 0.1022, 0.3300]])"
            ]
          },
          "metadata": {},
          "execution_count": 96
        }
      ]
    },
    {
      "cell_type": "code",
      "source": [
        "pred_classes = pred_probs.argmax(dim=1)\n",
        "pred_classes"
      ],
      "metadata": {
        "id": "n_guEAAx_b4Z",
        "colab": {
          "base_uri": "https://localhost:8080/"
        },
        "outputId": "5508c07d-9636-4001-e331-43d928421453"
      },
      "execution_count": 97,
      "outputs": [
        {
          "output_type": "execute_result",
          "data": {
            "text/plain": [
              "tensor([2, 2, 0, 0, 0, 2, 0, 2, 1, 0, 2, 2, 0, 2, 2, 0, 2, 2, 1, 0])"
            ]
          },
          "metadata": {},
          "execution_count": 97
        }
      ]
    },
    {
      "cell_type": "code",
      "source": [
        "test_labels, pred_classes"
      ],
      "metadata": {
        "id": "Ii14JJfbDavf",
        "colab": {
          "base_uri": "https://localhost:8080/"
        },
        "outputId": "5d50b450-1966-4a65-88e7-d3031c92616f"
      },
      "execution_count": 98,
      "outputs": [
        {
          "output_type": "execute_result",
          "data": {
            "text/plain": [
              "([0, 1, 0, 0, 0, 2, 2, 2, 0, 1, 0, 1, 0, 2, 2, 1, 0, 2, 1, 2],\n",
              " tensor([2, 2, 0, 0, 0, 2, 0, 2, 1, 0, 2, 2, 0, 2, 2, 0, 2, 2, 1, 0]))"
            ]
          },
          "metadata": {},
          "execution_count": 98
        }
      ]
    },
    {
      "cell_type": "code",
      "source": [
        "from pathlib import Path\n",
        "\n",
        "MODEL_PATH = Path(\"models\")\n",
        "MODEL_PATH.mkdir(parents=True,\n",
        "  exist_ok=True\n",
        ")\n",
        "MODEL_NAME = \"model_2_20ep_adam_dropout_pre.pth\"\n",
        "MODEL_PKL = \"model_2_20ep_pre\"\n",
        "MODEL_SAVE_PATH = MODEL_PATH / MODEL_NAME\n",
        "PKL = MODEL_PATH / MODEL_PKL\n",
        "print(f\"Saving model to: {MODEL_SAVE_PATH}\")\n",
        "torch.save(obj=model_2.state_dict(), # only saving the state_dict() only saves the learned parameters\n",
        "           f=MODEL_SAVE_PATH)"
      ],
      "metadata": {
        "id": "PwZ21gQDDg5S",
        "colab": {
          "base_uri": "https://localhost:8080/"
        },
        "outputId": "8ef40f52-db2f-4085-dde8-d8d7ffd50063"
      },
      "execution_count": 99,
      "outputs": [
        {
          "output_type": "stream",
          "name": "stdout",
          "text": [
            "Saving model to: models/model_2_20ep_adam_dropout_pre.pth\n"
          ]
        }
      ]
    },
    {
      "cell_type": "code",
      "source": [
        "torch.save(obj = model_2, f = PKL)"
      ],
      "metadata": {
        "id": "LM-fl1CAfRyY"
      },
      "execution_count": 101,
      "outputs": []
    },
    {
      "cell_type": "code",
      "source": [
        "NAME = \"model_2_20ep_adam_dropout.pth\"\n",
        "MODEL_SAVE_PATH = MODEL_PATH / NAME\n",
        "loaded_model = ModelV2(input_shape=3, \n",
        "    hidden_units=10, \n",
        "    output_shape=len(classes)).to(device)\n",
        "loaded_model.load_state_dict(torch.load(MODEL_SAVE_PATH))"
      ],
      "metadata": {
        "id": "geyToadrgCrb",
        "colab": {
          "base_uri": "https://localhost:8080/"
        },
        "outputId": "09a370e0-570d-4a85-ca57-756f47a41230"
      },
      "execution_count": 102,
      "outputs": [
        {
          "output_type": "execute_result",
          "data": {
            "text/plain": [
              "<All keys matched successfully>"
            ]
          },
          "metadata": {},
          "execution_count": 102
        }
      ]
    },
    {
      "cell_type": "code",
      "source": [
        "transform = transforms.Compose([\n",
        "    transforms.ToTensor(),\n",
        "    transforms.Normalize([0.5,0.5,0.5], [0.5,0.5,0.5])\n",
        "])"
      ],
      "metadata": {
        "id": "datWLyaZkPg4"
      },
      "execution_count": 105,
      "outputs": []
    },
    {
      "cell_type": "code",
      "source": [
        "from PIL import Image\n",
        "img = Image.open(\"/content/drive/MyDrive/Data/SourceData/1000.png\").convert('RGB')"
      ],
      "metadata": {
        "id": "jdwDsuIrkfXJ"
      },
      "execution_count": 106,
      "outputs": []
    },
    {
      "cell_type": "code",
      "source": [
        "img"
      ],
      "metadata": {
        "id": "K6AFzQjwlCxE",
        "colab": {
          "base_uri": "https://localhost:8080/",
          "height": 145
        },
        "outputId": "2a6bc20b-3ba2-4f6c-8629-93d89eef02b1"
      },
      "execution_count": 107,
      "outputs": [
        {
          "output_type": "execute_result",
          "data": {
            "text/plain": [
              "<PIL.Image.Image image mode=RGB size=128x128 at 0x7F57188D4880>"
            ],
            "image/png": "[encoded data removed]"
          },
          "metadata": {},
          "execution_count": 107
        }
      ]
    },
    {
      "cell_type": "code",
      "source": [
        "input = transform(img)"
      ],
      "metadata": {
        "id": "I-r6_n2UlNT2"
      },
      "execution_count": 108,
      "outputs": []
    },
    {
      "cell_type": "code",
      "source": [
        "input = input.unsqueeze(0)"
      ],
      "metadata": {
        "id": "ZwsenSg3lYQG"
      },
      "execution_count": 109,
      "outputs": []
    },
    {
      "cell_type": "code",
      "source": [
        "loaded_model.eval()"
      ],
      "metadata": {
        "id": "kRvtqw2Luyd1",
        "colab": {
          "base_uri": "https://localhost:8080/"
        },
        "outputId": "d0896d6e-472d-474f-ad0a-a3f067ec6c3b"
      },
      "execution_count": 110,
      "outputs": [
        {
          "output_type": "execute_result",
          "data": {
            "text/plain": [
              "ModelV2(\n",
              "  (block_1): Sequential(\n",
              "    (0): Conv2d(3, 10, kernel_size=(3, 3), stride=(1, 1), padding=(1, 1))\n",
              "    (1): ReLU()\n",
              "    (2): Conv2d(10, 10, kernel_size=(3, 3), stride=(1, 1), padding=(1, 1))\n",
              "    (3): ReLU()\n",
              "    (4): MaxPool2d(kernel_size=2, stride=2, padding=0, dilation=1, ceil_mode=False)\n",
              "  )\n",
              "  (block_2): Sequential(\n",
              "    (0): Conv2d(10, 10, kernel_size=(3, 3), stride=(1, 1), padding=(1, 1))\n",
              "    (1): ReLU()\n",
              "    (2): Conv2d(10, 10, kernel_size=(3, 3), stride=(1, 1), padding=(1, 1))\n",
              "    (3): ReLU()\n",
              "    (4): MaxPool2d(kernel_size=2, stride=2, padding=0, dilation=1, ceil_mode=False)\n",
              "  )\n",
              "  (classifier): Sequential(\n",
              "    (0): Flatten(start_dim=1, end_dim=-1)\n",
              "    (1): Linear(in_features=10240, out_features=3, bias=True)\n",
              "  )\n",
              "  (dropout): Dropout(p=0.25, inplace=False)\n",
              ")"
            ]
          },
          "metadata": {},
          "execution_count": 110
        }
      ]
    },
    {
      "cell_type": "code",
      "source": [
        "output = loaded_model(input)"
      ],
      "metadata": {
        "id": "uHNW841Wu2UF"
      },
      "execution_count": 111,
      "outputs": []
    },
    {
      "cell_type": "code",
      "source": [
        "pred_prob = torch.softmax(output.squeeze(), dim=0)"
      ],
      "metadata": {
        "id": "K1FtsWxdu-59"
      },
      "execution_count": 112,
      "outputs": []
    },
    {
      "cell_type": "code",
      "source": [
        "pred = pred_prob.argmax()"
      ],
      "metadata": {
        "id": "89pIo_VfvBpC"
      },
      "execution_count": 113,
      "outputs": []
    },
    {
      "cell_type": "code",
      "source": [
        "pred"
      ],
      "metadata": {
        "id": "2ceu118avkoU",
        "colab": {
          "base_uri": "https://localhost:8080/"
        },
        "outputId": "5f8a1128-3e65-4a2b-a2f7-0fd5a17377c9"
      },
      "execution_count": 114,
      "outputs": [
        {
          "output_type": "execute_result",
          "data": {
            "text/plain": [
              "tensor(2)"
            ]
          },
          "metadata": {},
          "execution_count": 114
        }
      ]
    }
  ]
}